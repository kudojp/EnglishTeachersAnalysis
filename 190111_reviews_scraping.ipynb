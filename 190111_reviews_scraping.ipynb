{
 "cells": [
  {
   "cell_type": "markdown",
   "metadata": {},
   "source": [
    "# This Notebook is to scrape anonymous reviews from students.\n",
    "\n",
    "\n",
    ">Edited from 190111 till 190117"
   ]
  },
  {
   "cell_type": "code",
   "execution_count": 1,
   "metadata": {},
   "outputs": [],
   "source": [
    "import pandas as pd\n",
    "import numpy as np\n",
    "import requests\n",
    "from bs4 import BeautifulSoup\n",
    "import re\n",
    "import time\n",
    "import sqlite3\n",
    "import pickle\n",
    "import matplotlib\n",
    "import matplotlib.pyplot as plt\n",
    "import sys\n",
    "from requests.exceptions import ConnectionError\n",
    "\n",
    "pd.set_option('display.max_columns', 500)\n",
    "pd.options.display.max_rows = 100\n",
    "matplotlib.rcParams['font.family'] = 'AppleGothic'\n",
    "\n",
    "%matplotlib inline"
   ]
  },
  {
   "cell_type": "markdown",
   "metadata": {},
   "source": [
    "# Load in URL list into \"urls\" from \"teachers_urls.txt\""
   ]
  },
  {
   "cell_type": "code",
   "execution_count": 2,
   "metadata": {},
   "outputs": [],
   "source": [
    "f = open('teacher_urls.txt', 'rb')\n",
    "urls = pickle.load(f)\n",
    "f.close()"
   ]
  },
  {
   "cell_type": "code",
   "execution_count": 3,
   "metadata": {},
   "outputs": [
    {
     "data": {
      "text/plain": [
       "['http://eikaiwa.dmm.com/teacher/index/398/',\n",
       " 'http://eikaiwa.dmm.com/teacher/index/1117/',\n",
       " 'http://eikaiwa.dmm.com/teacher/index/1446/',\n",
       " 'http://eikaiwa.dmm.com/teacher/index/1677/',\n",
       " 'http://eikaiwa.dmm.com/teacher/index/1897/']"
      ]
     },
     "execution_count": 3,
     "metadata": {},
     "output_type": "execute_result"
    }
   ],
   "source": [
    "urls[:5]"
   ]
  },
  {
   "cell_type": "markdown",
   "metadata": {},
   "source": [
    "# Scrape reviews of each teachers from their students and save them in the database file \"ratings.db\"\n",
    "\n",
    "### commentごとのratingは、おそらくある時点以降に導入されたものと思われる。そのため過去のコメントではrating = 0が並んでいる。これらは後ほどNaNに置き換える予定。"
   ]
  },
  {
   "cell_type": "code",
   "execution_count": 7,
   "metadata": {},
   "outputs": [],
   "source": [
    "def get_review(teacher_id, page):\n",
    "\n",
    "    r =  requests.post(\"https://eikaiwa.dmm.com/teacher/tab_ajax_ratecomment/\",\n",
    "        data='teacher_id={}&page={}'.format(teacher_id, page),\n",
    "        headers={\n",
    "            \"accept\": \"*/*\",\n",
    "            \"accept-encoding\": \"gzip, deflate, br\",\n",
    "            \"accept-language\": \"en-US,en;q=0.9\",\n",
    "            \"authority\": \"eikaiwa.dmm.com\",\n",
    "            \"content-type\": \"application/x-www-form-urlencoded; charset=UTF-8\",\n",
    "            \"origin\": \"https://eikaiwa.dmm.com\",\n",
    "            \"referer\": \"https://eikaiwa.dmm.com/teacher/index/{}/\".format(teacher_id),\n",
    "            \"user-agent\": \"Mozilla/5.0 (Macintosh; Intel Mac OS X 10_12_6) AppleWebKit/537.36 (KHTML, like Gecko) Chrome/71.0.3578.98 Safari/537.36\",\n",
    "            \"x-requested-with\": \"XMLHttpRequest\"\n",
    "        },\n",
    "        cookies={\n",
    "            \"AMP_TOKEN\": \"%24NOT_FOUND\",\n",
    "            \"PHPSESSID\": \"d3b63b845f04033e8ba42225de244a88\",\n",
    "            \"__utma\": \"225231877.1937935001.1545231753.1546318067.1547193623.3\",\n",
    "            \"__utmb\": \"225231877.2.10.1547193623\",\n",
    "            \"__utmc\": \"225231877\",\n",
    "            \"__utmt\": \"1\",\n",
    "            \"__utmz\": \"225231877.1547193623.3.2.utmcsr=google|utmccn=(organic)|utmcmd=organic|utmctr=(not%20provided)\",\n",
    "            \"_dc_gtm_UA-48257133-1\": \"1\",\n",
    "            \"_dga\": \"GA1.3.1937935001.1545231753\",\n",
    "            \"_dga_gid\": \"GA1.3.1694366917.1547193623\",\n",
    "            \"_fbp\": \"fb.1.1547193626615.72004840\",\n",
    "            \"_gali\": \"ratecomment\",\n",
    "            \"app_uid\": \"ygb3J1waXYgdkRfaDtkSAg==\",\n",
    "            \"cX_G\": \"cx%3A3kv82phj0hx3mw4ofrjh1f8ur%3A3cguwtwuxac6i\",\n",
    "            \"cX_P\": \"jpvb385rfrdh4crx\",\n",
    "            \"cX_S\": \"jqrr4xovsbqzvxt7\",\n",
    "            \"i3_ab\": \"7460\"\n",
    "        },\n",
    "    )\n",
    "\n",
    "    return r.text"
   ]
  },
  {
   "cell_type": "code",
   "execution_count": 8,
   "metadata": {},
   "outputs": [],
   "source": [
    "# get the score of the comment form a student\n",
    "# the score is represented by yellow or grey star images.\n",
    "\n",
    "def get_rating_from_html(bs):\n",
    "    \n",
    "    rating = 0\n",
    "        \n",
    "    for i in range(5):     \n",
    "        if bs.find_all(\"img\")[i][\"src\"][77:-4] == \"yellow\":\n",
    "            rating += 1\n",
    "        elif bs.find_all(\"img\")[i][\"src\"][77:-4] == \"grey\":\n",
    "            pass\n",
    "        else:\n",
    "            print(\"Something is wrong about get_rating_from_html()\")\n",
    "            sys.exit()\n",
    "    \n",
    "    return rating"
   ]
  },
  {
   "cell_type": "code",
   "execution_count": 9,
   "metadata": {},
   "outputs": [],
   "source": [
    "def convert_year_month_day(date):\n",
    "    digit_date = date = date.replace(\"年\",\",\").replace(\"月\",\",\").replace(\"日\",\"\").split(\",\")\n",
    "    digit_date = date[0] + date[1].zfill(2) + date[2].zfill(2)\n",
    "    return digit_date\n",
    "    "
   ]
  },
  {
   "cell_type": "code",
   "execution_count": 102,
   "metadata": {},
   "outputs": [],
   "source": [
    "### Comments would be stored in the database file once per url\n",
    "\n",
    "def scrape_and_store_reviews_to_db(url_list, first_index, last_index):\n",
    "    \n",
    "    ids_without_reviews = []\n",
    "    \n",
    "    # Dataframe where all comments for this teacher would be stored\n",
    "    df_reviews = pd.DataFrame(columns=[\"teacher_id\", \"name\",\"date\",\"rating\",\"review\"])\n",
    "    \n",
    "    t = time.time()\n",
    "    \n",
    "    for i, each_teacher_url in enumerate(url_list[ first_index:last_index ]):\n",
    "    \n",
    "        # print out the progress\n",
    "        #if i % 30 == 0 : print(i)\n",
    "            \n",
    "        try:\n",
    "            # extract this teacher's id from url\n",
    "            teacher_id = each_teacher_url[37:-1]\n",
    "\n",
    "            # get the comment counts portion like 88 in \"コメント 全88件\"\n",
    "            # and get how many rating comments have been posted on this teacher\n",
    "            bs = BeautifulSoup( get_review(teacher_id, 2) )\n",
    "            num_comments = int(bs.find(\"p\",{\"class\",\"total_comments\"}).getText()[6:-1])\n",
    "            \n",
    "            # skip scraping if this teacher has no review like \"コメント 全0件\"\n",
    "            if num_comments < 1:\n",
    "                #print(i, \"reviews not found\", each_teacher_url)\n",
    "                ids_without_reviews.append(teacher_id)\n",
    "                \n",
    "            else:\n",
    "                # calcaulate how many pages I have to scrape like \"18 pages\"\n",
    "                all_pages = (num_comments+4) // 5\n",
    "                #print(all_pages, num_comments)\n",
    "\n",
    "                review_count = 0\n",
    "\n",
    "                # loop through each of pages\n",
    "                for page in range(1, all_pages+1):\n",
    "\n",
    "                    bs = BeautifulSoup( get_review(teacher_id, page) )\n",
    "\n",
    "                    for j in range(5):\n",
    "                        try:\n",
    "                            # Series where each of comments would be scored.\n",
    "                            each_review = pd.Series(index=[\"teacher_id\", \"name\",\"date\",\"rating\",\"review\"], )\n",
    "                            review_block = bs.find_all(\"dl\",{\"class\",\"comments\"})[j]\n",
    "\n",
    "                            # store review information in the Series \"each_review\"\n",
    "                            each_review[\"teacher_id\"] = teacher_id\n",
    "                            each_review[\"name\"] = review_block.find(\"span\",{\"class\":\"c_name\"}).getText()\n",
    "                            each_review[\"date\"] = review_block.find(\"span\",{\"class\":\"c_time\"}).getText()\n",
    "                            each_review[\"rating\"] = get_rating_from_html(review_block)\n",
    "                            each_review[\"review\"] = review_block.find(\"dd\").getText().replace(\"\\n\",\" \").replace(\"\\r\",\" \")\n",
    "\n",
    "                            # store this Series \"each_review\" into \"df_reviews\"\n",
    "                            df_reviews = pd.concat([df_reviews, pd.DataFrame([each_review], columns=[\"teacher_id\", \"name\",\"date\",\"rating\",\"review\"])])\n",
    "\n",
    "                            # break when all the comments were scraped\n",
    "                            review_count += 1\n",
    "                            if (review_count == num_comments):\n",
    "                                break\n",
    "\n",
    "                        except Exception as e:\n",
    "                            print(i,e,each_teacher_url)\n",
    "                            break\n",
    "                            \n",
    "                            \n",
    "                    time.sleep(1)\n",
    "\n",
    "                assert review_count == num_comments\n",
    "        \n",
    "        # Terinate without writing file if the connection fails in the middle\n",
    "        except Exception as e:\n",
    "            print(\"{} {} {} [in line {}]\".format(i, e, each_teacher_url, sys.exc_info()[-1].tb_lineno))\n",
    "            print(\"\\nDownload interrupted in the middle of {}th iteration.\".format(i))\n",
    "            break\n",
    "        \n",
    "    print(time.time() - t)\n",
    "    \n",
    "    # convert the type of \"teacher_id\" into int\n",
    "    df_reviews.teacher_id = df_reviews.teacher_id.astype(int)\n",
    "\n",
    "    # convert \"date\" cell (like \"2016年7月8日\") into datetime(like \"2016-07-08\")\n",
    "    df_reviews.date = pd.to_datetime(df_reviews.date.apply(convert_year_month_day))\n",
    "            \n",
    "    # store reviews only when this part is reached to\n",
    "    print(\"\\nThese {} teachers had no reviews. : {}\".format(len(ids_without_reviews), ids_without_reviews))\n",
    "    conn = sqlite3.connect(\"reviews.db\")\n",
    "    df_reviews.to_sql(\"reviews\", conn, if_exists=\"append\", index=False)\n",
    "    print(\"Reviews for teachers from {} ~ {} were written in the database file\".format(first_index, first_index + i -1))"
   ]
  },
  {
   "cell_type": "code",
   "execution_count": 269,
   "metadata": {
    "scrolled": true
   },
   "outputs": [
    {
     "name": "stdout",
     "output_type": "stream",
     "text": [
      "0\n",
      "20\n",
      "40\n",
      "54 reviews not found http://eikaiwa.dmm.com/teacher/index/16208/\n",
      "60\n",
      "77 reviews not found http://eikaiwa.dmm.com/teacher/index/22149/\n",
      "80\n",
      "86 reviews not found http://eikaiwa.dmm.com/teacher/index/25921/\n",
      "87 reviews not found http://eikaiwa.dmm.com/teacher/index/25982/\n",
      "88 reviews not found http://eikaiwa.dmm.com/teacher/index/26033/\n",
      "92 reviews not found http://eikaiwa.dmm.com/teacher/index/26289/\n",
      "96 reviews not found http://eikaiwa.dmm.com/teacher/index/26709/\n",
      "5213.241311073303\n",
      "\n",
      "All data was written in the database file\n"
     ]
    }
   ],
   "source": [
    "scrape_and_store_reviews_to_db(urls, 0, 100)"
   ]
  },
  {
   "cell_type": "code",
   "execution_count": 270,
   "metadata": {},
   "outputs": [
    {
     "name": "stdout",
     "output_type": "stream",
     "text": [
      "0\n",
      "0 reviews not found http://eikaiwa.dmm.com/teacher/index/26849/\n",
      "2 reviews not found http://eikaiwa.dmm.com/teacher/index/26878/\n",
      "8 reviews not found http://eikaiwa.dmm.com/teacher/index/27023/\n",
      "10 reviews not found http://eikaiwa.dmm.com/teacher/index/27154/\n",
      "15 reviews not found http://eikaiwa.dmm.com/teacher/index/27248/\n",
      "16 reviews not found http://eikaiwa.dmm.com/teacher/index/27252/\n",
      "17 reviews not found http://eikaiwa.dmm.com/teacher/index/27253/\n",
      "18 reviews not found http://eikaiwa.dmm.com/teacher/index/27258/\n",
      "19 reviews not found http://eikaiwa.dmm.com/teacher/index/27275/\n",
      "20\n",
      "23 reviews not found http://eikaiwa.dmm.com/teacher/index/27297/\n",
      "24 reviews not found http://eikaiwa.dmm.com/teacher/index/27298/\n",
      "25 reviews not found http://eikaiwa.dmm.com/teacher/index/27299/\n",
      "31 reviews not found http://eikaiwa.dmm.com/teacher/index/27336/\n",
      "32 reviews not found http://eikaiwa.dmm.com/teacher/index/27395/\n",
      "37 reviews not found http://eikaiwa.dmm.com/teacher/index/27411/\n",
      "40\n",
      "40 reviews not found http://eikaiwa.dmm.com/teacher/index/27431/\n",
      "41 reviews not found http://eikaiwa.dmm.com/teacher/index/27434/\n",
      "47 reviews not found http://eikaiwa.dmm.com/teacher/index/27496/\n",
      "48 reviews not found http://eikaiwa.dmm.com/teacher/index/27516/\n",
      "49 reviews not found http://eikaiwa.dmm.com/teacher/index/27517/\n",
      "50 reviews not found http://eikaiwa.dmm.com/teacher/index/27523/\n",
      "56 reviews not found http://eikaiwa.dmm.com/teacher/index/27574/\n",
      "60\n",
      "60 reviews not found http://eikaiwa.dmm.com/teacher/index/27585/\n",
      "62 reviews not found http://eikaiwa.dmm.com/teacher/index/27604/\n",
      "63 reviews not found http://eikaiwa.dmm.com/teacher/index/27606/\n",
      "69 reviews not found http://eikaiwa.dmm.com/teacher/index/27699/\n",
      "80\n",
      "2886.5895438194275\n",
      "\n",
      "All data was written in the database file\n"
     ]
    }
   ],
   "source": [
    "scrape_and_store_reviews_to_db(urls, 100, 200)"
   ]
  },
  {
   "cell_type": "code",
   "execution_count": 298,
   "metadata": {},
   "outputs": [
    {
     "name": "stdout",
     "output_type": "stream",
     "text": [
      "0\n",
      "10\n",
      "20\n",
      "30\n",
      "40\n",
      "50\n",
      "60\n",
      "70\n",
      "80\n",
      "90\n",
      "4625.848479986191\n",
      "\n",
      "These 0 teachers had no reviews. : []\n",
      "\n",
      "All data was written in the database file\n"
     ]
    }
   ],
   "source": [
    "scrape_and_store_reviews_to_db(urls, 201, 300)"
   ]
  },
  {
   "cell_type": "code",
   "execution_count": 301,
   "metadata": {},
   "outputs": [
    {
     "name": "stdout",
     "output_type": "stream",
     "text": [
      "0\n",
      "10\n",
      "20\n",
      "30\n",
      "40\n",
      "50\n",
      "60\n",
      "70\n",
      "80\n",
      "90\n",
      "4469.3694660663605\n",
      "\n",
      "These 0 teachers had no reviews. : []\n",
      "\n",
      "All data was written in the database file\n"
     ]
    }
   ],
   "source": [
    "scrape_and_store_reviews_to_db(urls, 301, 400)"
   ]
  },
  {
   "cell_type": "code",
   "execution_count": 302,
   "metadata": {},
   "outputs": [
    {
     "name": "stdout",
     "output_type": "stream",
     "text": [
      "0\n",
      "10\n",
      "20\n",
      "30\n",
      "40\n",
      "50\n",
      "60\n",
      "70\n",
      "80\n",
      "90\n",
      "5077.633849143982\n",
      "\n",
      "These 0 teachers had no reviews. : []\n",
      "\n",
      "All data was written in the database file\n"
     ]
    }
   ],
   "source": [
    "scrape_and_store_reviews_to_db(urls, 400, 500)"
   ]
  },
  {
   "cell_type": "code",
   "execution_count": 307,
   "metadata": {},
   "outputs": [
    {
     "name": "stdout",
     "output_type": "stream",
     "text": [
      "0\n",
      "10\n",
      "20\n",
      "30\n",
      "40\n",
      "50\n",
      "60\n",
      "70\n",
      "80\n",
      "90\n",
      "3526.9483132362366\n",
      "\n",
      "These 0 teachers had no reviews. : []\n",
      "\n",
      "All data was written in the database file\n"
     ]
    }
   ],
   "source": [
    "scrape_and_store_reviews_to_db(urls, 500, 600)"
   ]
  },
  {
   "cell_type": "code",
   "execution_count": 315,
   "metadata": {},
   "outputs": [
    {
     "name": "stdout",
     "output_type": "stream",
     "text": [
      "0\n",
      "30\n",
      "60\n",
      "90\n",
      "4897.000339984894\n",
      "\n",
      "These 0 teachers had no reviews. : []\n",
      "\n",
      "All data was written in the database file\n"
     ]
    }
   ],
   "source": [
    "scrape_and_store_reviews_to_db(urls, 600, 700)"
   ]
  },
  {
   "cell_type": "code",
   "execution_count": 319,
   "metadata": {},
   "outputs": [
    {
     "name": "stdout",
     "output_type": "stream",
     "text": [
      "0\n",
      "30\n",
      "60\n",
      "90\n",
      "5075.793924808502\n",
      "\n",
      "These 0 teachers had no reviews. : []\n",
      "\n",
      "All data was written in the database file\n"
     ]
    }
   ],
   "source": [
    "scrape_and_store_reviews_to_db(urls, 700, 800)"
   ]
  },
  {
   "cell_type": "code",
   "execution_count": 322,
   "metadata": {
    "scrolled": false
   },
   "outputs": [
    {
     "name": "stdout",
     "output_type": "stream",
     "text": [
      "3038.800406932831\n",
      "\n",
      "These 0 teachers had no reviews. : []\n",
      "\n",
      "All data was written in the database file\n"
     ]
    }
   ],
   "source": [
    "scrape_and_store_reviews_to_db(urls, 800, 900)"
   ]
  },
  {
   "cell_type": "code",
   "execution_count": 326,
   "metadata": {},
   "outputs": [
    {
     "name": "stdout",
     "output_type": "stream",
     "text": [
      "5051.813581228256\n",
      "\n",
      "These 1 teachers had no reviews. : ['27316']\n",
      "\n",
      "All data was written in the database file\n"
     ]
    }
   ],
   "source": [
    "scrape_and_store_reviews_to_db(urls, 900, 1000)"
   ]
  },
  {
   "cell_type": "code",
   "execution_count": 337,
   "metadata": {},
   "outputs": [
    {
     "name": "stdout",
     "output_type": "stream",
     "text": [
      "2850.2720379829407\n",
      "\n",
      "These 0 teachers had no reviews. : []\n",
      "\n",
      "All data was written in the database file\n"
     ]
    }
   ],
   "source": [
    "scrape_and_store_reviews_to_db(urls, 1000, 1100)"
   ]
  },
  {
   "cell_type": "code",
   "execution_count": 372,
   "metadata": {},
   "outputs": [
    {
     "name": "stdout",
     "output_type": "stream",
     "text": [
      "3352.749478816986\n",
      "\n",
      "These 1 teachers had no reviews. : ['27418']\n",
      "All data was written in the database file\n"
     ]
    }
   ],
   "source": [
    "scrape_and_store_reviews_to_db(urls, 1100, 1200)"
   ]
  },
  {
   "cell_type": "code",
   "execution_count": 375,
   "metadata": {
    "scrolled": true
   },
   "outputs": [
    {
     "name": "stdout",
     "output_type": "stream",
     "text": [
      "5333.891016960144\n",
      "\n",
      "These 0 teachers had no reviews. : []\n",
      "All data was written in the database file\n"
     ]
    }
   ],
   "source": [
    "scrape_and_store_reviews_to_db(urls, 1200, 1300)"
   ]
  },
  {
   "cell_type": "code",
   "execution_count": 11,
   "metadata": {
    "scrolled": true
   },
   "outputs": [
    {
     "name": "stdout",
     "output_type": "stream",
     "text": [
      "135 HTTPSConnectionPool(host='eikaiwa.dmm.com', port=443): Max retries exceeded with url: /teacher/tab_ajax_ratecomment/ (Caused by NewConnectionError('<urllib3.connection.VerifiedHTTPSConnection object at 0x11fda9ba8>: Failed to establish a new connection: [Errno 8] nodename nor servname provided, or not known',)) http://eikaiwa.dmm.com/teacher/index/3447/\n",
      "\n",
      "Download interrupted after 135 iteration.\n",
      "4921.938588142395\n",
      "\n",
      "These 0 teachers had no reviews. : []\n",
      "Reviews for teachers from 1300 ~ 1435 were written in the database file\n"
     ]
    }
   ],
   "source": [
    "scrape_and_store_reviews_to_db(urls, 1300, 1700)"
   ]
  },
  {
   "cell_type": "code",
   "execution_count": 76,
   "metadata": {},
   "outputs": [
    {
     "name": "stdout",
     "output_type": "stream",
     "text": [
      "64.2096619606018\n",
      "\n",
      "These 0 teachers had no reviews. : []\n",
      "Reviews for teachers from 1435 ~ 1434 were written in the database file\n"
     ]
    }
   ],
   "source": [
    "scrape_and_store_reviews_to_db(urls, 1435, 1436)"
   ]
  },
  {
   "cell_type": "code",
   "execution_count": 15,
   "metadata": {},
   "outputs": [
    {
     "name": "stdout",
     "output_type": "stream",
     "text": [
      "11615.472882032394\n",
      "\n",
      "These 2 teachers had no reviews. : ['23270', '27442']\n",
      "Reviews for teachers from 1436 ~ 1699 were written in the database file\n"
     ]
    }
   ],
   "source": [
    "scrape_and_store_reviews_to_db(urls, 1436, 1700)"
   ]
  },
  {
   "cell_type": "code",
   "execution_count": 16,
   "metadata": {
    "scrolled": false
   },
   "outputs": [
    {
     "name": "stdout",
     "output_type": "stream",
     "text": [
      "115 ('Connection aborted.', RemoteDisconnected('Remote end closed connection without response',)) http://eikaiwa.dmm.com/teacher/index/24071/\n",
      "\n",
      "Download interrupted after 115 iteration.\n",
      "3922.6277520656586\n",
      "\n",
      "These 0 teachers had no reviews. : []\n",
      "Reviews for teachers from 1700 ~ 1815 were written in the database file\n"
     ]
    }
   ],
   "source": [
    "scrape_and_store_reviews_to_db(urls, 1700, 2000)"
   ]
  },
  {
   "cell_type": "code",
   "execution_count": 44,
   "metadata": {},
   "outputs": [
    {
     "name": "stdout",
     "output_type": "stream",
     "text": [
      "31.038333892822266\n",
      "\n",
      "These 0 teachers had no reviews. : []\n",
      "Reviews for teachers from 1815 ~ 1815 were written in the database file\n"
     ]
    }
   ],
   "source": [
    "scrape_and_store_reviews_to_db(urls, 1815, 1816)"
   ]
  },
  {
   "cell_type": "code",
   "execution_count": 23,
   "metadata": {
    "scrolled": false
   },
   "outputs": [
    {
     "name": "stdout",
     "output_type": "stream",
     "text": [
      "110 list index out of range http://eikaiwa.dmm.com/teacher/index/12621/\n",
      "110 list index out of range http://eikaiwa.dmm.com/teacher/index/12621/\n",
      "110 list index out of range http://eikaiwa.dmm.com/teacher/index/12621/\n",
      "110 list index out of range http://eikaiwa.dmm.com/teacher/index/12621/\n",
      "110 list index out of range http://eikaiwa.dmm.com/teacher/index/12621/\n",
      "110 list index out of range http://eikaiwa.dmm.com/teacher/index/12621/\n",
      "110  http://eikaiwa.dmm.com/teacher/index/12621/\n",
      "\n",
      "Download interrupted after 110 iteration.\n",
      "4425.486377000809\n",
      "\n",
      "These 1 teachers had no reviews. : ['27274']\n",
      "Reviews for teachers from 1816 ~ 1926 were written in the database file\n"
     ]
    }
   ],
   "source": [
    "bscrape_and_store_reviews_to_db(urls, 1816, 2000)"
   ]
  },
  {
   "cell_type": "code",
   "execution_count": 57,
   "metadata": {
    "scrolled": true
   },
   "outputs": [
    {
     "name": "stdout",
     "output_type": "stream",
     "text": [
      "101.3224949836731\n",
      "\n",
      "These 0 teachers had no reviews. : []\n",
      "Reviews for teachers from 1926 ~ 1926 were written in the database file\n"
     ]
    }
   ],
   "source": [
    "scrape_and_store_reviews_to_db(urls, 1926, 1927)"
   ]
  },
  {
   "cell_type": "code",
   "execution_count": 29,
   "metadata": {
    "scrolled": true
   },
   "outputs": [
    {
     "name": "stdout",
     "output_type": "stream",
     "text": [
      "19 list index out of range http://eikaiwa.dmm.com/teacher/index/15956/\n",
      "19 list index out of range http://eikaiwa.dmm.com/teacher/index/15956/\n",
      "19 list index out of range http://eikaiwa.dmm.com/teacher/index/15956/\n",
      "19 list index out of range http://eikaiwa.dmm.com/teacher/index/15956/\n",
      "19 list index out of range http://eikaiwa.dmm.com/teacher/index/15956/\n",
      "19 ('Connection aborted.', RemoteDisconnected('Remote end closed connection without response',)) http://eikaiwa.dmm.com/teacher/index/15956/\n",
      "\n",
      "Download interrupted after 19 iteration.\n",
      "695.4262430667877\n",
      "\n",
      "These 0 teachers had no reviews. : []\n",
      "Reviews for teachers from 1927 ~ 1946 were written in the database file\n"
     ]
    }
   ],
   "source": [
    "scrape_and_store_reviews_to_db(urls, 1927, 2000)"
   ]
  },
  {
   "cell_type": "code",
   "execution_count": 74,
   "metadata": {},
   "outputs": [
    {
     "name": "stdout",
     "output_type": "stream",
     "text": [
      "1741.3793730735779\n",
      "\n",
      "These 0 teachers had no reviews. : []\n",
      "Reviews for teachers from 1946 ~ 1999 were written in the database file\n"
     ]
    }
   ],
   "source": [
    "scrape_and_store_reviews_to_db(urls, 1946, 2000)"
   ]
  },
  {
   "cell_type": "code",
   "execution_count": 379,
   "metadata": {},
   "outputs": [
    {
     "name": "stdout",
     "output_type": "stream",
     "text": [
      "148 HTTPSConnectionPool(host='eikaiwa.dmm.com', port=443): Max retries exceeded with url: /teacher/tab_ajax_ratecomment/ (Caused by NewConnectionError('<urllib3.connection.VerifiedHTTPSConnection object at 0x12f0ff588>: Failed to establish a new connection: [Errno 8] nodename nor servname provided, or not known',)) http://eikaiwa.dmm.com/teacher/index/12776/\n",
      "\n",
      "Download interrupted after {} iteration.\n",
      "5679.514086961746\n",
      "\n",
      "These 2 teachers had no reviews. : ['24765', '27495']\n",
      "Reviews for teachers from 2000 ~ 2148 were written in the database file\n"
     ]
    }
   ],
   "source": [
    "scrape_and_store_reviews_to_db(urls, 2000, 2500)"
   ]
  },
  {
   "cell_type": "code",
   "execution_count": 80,
   "metadata": {},
   "outputs": [
    {
     "name": "stdout",
     "output_type": "stream",
     "text": [
      "214 HTTPSConnectionPool(host='eikaiwa.dmm.com', port=443): Max retries exceeded with url: /teacher/tab_ajax_ratecomment/ (Caused by NewConnectionError('<urllib3.connection.VerifiedHTTPSConnection object at 0x14704c978>: Failed to establish a new connection: [Errno 8] nodename nor servname provided, or not known',)) http://eikaiwa.dmm.com/teacher/index/16556/\n",
      "\n",
      "Download interrupted after 214 iteration.\n",
      "7032.174710988998\n",
      "\n",
      "These 1 teachers had no reviews. : ['27615']\n",
      "Reviews for teachers from 2148 ~ 2362 were written in the database file\n"
     ]
    }
   ],
   "source": [
    "scrape_and_store_reviews_to_db(urls, 2148, len(urls))"
   ]
  },
  {
   "cell_type": "code",
   "execution_count": 81,
   "metadata": {},
   "outputs": [
    {
     "name": "stdout",
     "output_type": "stream",
     "text": [
      "420 HTTPSConnectionPool(host='eikaiwa.dmm.com', port=443): Max retries exceeded with url: /teacher/tab_ajax_ratecomment/ (Caused by NewConnectionError('<urllib3.connection.VerifiedHTTPSConnection object at 0x141e2ee10>: Failed to establish a new connection: [Errno 8] nodename nor servname provided, or not known',)) http://eikaiwa.dmm.com/teacher/index/22315/\n",
      "\n",
      "Download interrupted after 420 iteration.\n",
      "15746.42124080658\n",
      "\n",
      "These 1 teachers had no reviews. : ['27429']\n",
      "Reviews for teachers from 2361 ~ 2781 were written in the database file\n"
     ]
    }
   ],
   "source": [
    "scrape_and_store_reviews_to_db(urls, 2361, len(urls))"
   ]
  },
  {
   "cell_type": "code",
   "execution_count": 82,
   "metadata": {
    "scrolled": true
   },
   "outputs": [
    {
     "name": "stdout",
     "output_type": "stream",
     "text": [
      "112 list index out of range http://eikaiwa.dmm.com/teacher/index/10350/\n",
      "112 list index out of range http://eikaiwa.dmm.com/teacher/index/10350/\n",
      "112  http://eikaiwa.dmm.com/teacher/index/10350/\n",
      "\n",
      "Download interrupted after 112 iteration.\n",
      "2708.8592319488525\n",
      "\n",
      "These 1 teachers had no reviews. : ['27480']\n",
      "Reviews for teachers from 2780 ~ 2892 were written in the database file\n"
     ]
    }
   ],
   "source": [
    "scrape_and_store_reviews_to_db(urls, 2780, len(urls))"
   ]
  },
  {
   "cell_type": "code",
   "execution_count": 88,
   "metadata": {},
   "outputs": [
    {
     "name": "stdout",
     "output_type": "stream",
     "text": [
      "119 HTTPSConnectionPool(host='eikaiwa.dmm.com', port=443): Max retries exceeded with url: /teacher/tab_ajax_ratecomment/ (Caused by NewConnectionError('<urllib3.connection.VerifiedHTTPSConnection object at 0x135d60cf8>: Failed to establish a new connection: [Errno 8] nodename nor servname provided, or not known',)) http://eikaiwa.dmm.com/teacher/index/7088/ [in line 41]\n",
      "\n",
      "Download interrupted in the middle of 119th iteration.\n",
      "5025.752235174179\n",
      "\n",
      "These 0 teachers had no reviews. : []\n",
      "Reviews for teachers from 2892 ~ 3010 were written in the database file\n"
     ]
    }
   ],
   "source": [
    "scrape_and_store_reviews_to_db(urls, 2892, len(urls))"
   ]
  },
  {
   "cell_type": "code",
   "execution_count": 107,
   "metadata": {
    "scrolled": true
   },
   "outputs": [
    {
     "name": "stdout",
     "output_type": "stream",
     "text": [
      "174 HTTPSConnectionPool(host='eikaiwa.dmm.com', port=443): Max retries exceeded with url: /teacher/tab_ajax_ratecomment/ (Caused by NewConnectionError('<urllib3.connection.VerifiedHTTPSConnection object at 0x151251240>: Failed to establish a new connection: [Errno 8] nodename nor servname provided, or not known',)) http://eikaiwa.dmm.com/teacher/index/17522/ [in line 41]\n",
      "\n",
      "Download interrupted in the middle of 174th iteration.\n",
      "7173.257016658783\n",
      "\n",
      "These 0 teachers had no reviews. : []\n",
      "Reviews for teachers from 3010 ~ 3183 were written in the database file\n"
     ]
    }
   ],
   "source": [
    "scrape_and_store_reviews_to_db(urls, 3010, len(urls))"
   ]
  },
  {
   "cell_type": "code",
   "execution_count": 108,
   "metadata": {
    "scrolled": true
   },
   "outputs": [
    {
     "name": "stdout",
     "output_type": "stream",
     "text": [
      "332 HTTPSConnectionPool(host='eikaiwa.dmm.com', port=443): Max retries exceeded with url: /teacher/tab_ajax_ratecomment/ (Caused by SSLError(SSLError(\"bad handshake: SysCallError(50, 'ENETDOWN')\",),)) http://eikaiwa.dmm.com/teacher/index/4973/ [in line 41]\n",
      "\n",
      "Download interrupted in the middle of 332th iteration.\n",
      "9400.190793275833\n",
      "\n",
      "These 10 teachers had no reviews. : ['22042', '26723', '27291', '27417', '27571', '27063', '27127', '27499', '26771', '27531']\n",
      "Reviews for teachers from 3183 ~ 3514 were written in the database file\n"
     ]
    }
   ],
   "source": [
    "scrape_and_store_reviews_to_db(urls, 3183, len(urls))"
   ]
  },
  {
   "cell_type": "code",
   "execution_count": 109,
   "metadata": {},
   "outputs": [
    {
     "name": "stdout",
     "output_type": "stream",
     "text": [
      "315 HTTPSConnectionPool(host='eikaiwa.dmm.com', port=443): Max retries exceeded with url: /teacher/tab_ajax_ratecomment/ (Caused by NewConnectionError('<urllib3.connection.VerifiedHTTPSConnection object at 0x15128a978>: Failed to establish a new connection: [Errno 51] Network is unreachable',)) http://eikaiwa.dmm.com/teacher/index/19929/ [in line 41]\n",
      "\n",
      "Download interrupted in the middle of 315th iteration.\n",
      "8871.986421823502\n",
      "\n",
      "These 4 teachers had no reviews. : ['16862', '25708', '27460', '27038']\n",
      "Reviews for teachers from 3514 ~ 3828 were written in the database file\n"
     ]
    }
   ],
   "source": [
    "scrape_and_store_reviews_to_db(urls, 3514, len(urls))"
   ]
  },
  {
   "cell_type": "code",
   "execution_count": 111,
   "metadata": {},
   "outputs": [
    {
     "name": "stdout",
     "output_type": "stream",
     "text": [
      "712 ('Connection aborted.', RemoteDisconnected('Remote end closed connection without response',)) http://eikaiwa.dmm.com/teacher/index/988/ [in line 41]\n",
      "\n",
      "Download interrupted in the middle of 712th iteration.\n",
      "14655.183600902557\n",
      "\n",
      "These 31 teachers had no reviews. : ['26502', '27115', '27340', '27659', '26835', '27077', '27399', '27560', '27569', '26605', '27070', '27397', '27536', '16979', '19208', '24796', '24616', '24722', '26354', '27526', '27318', '27681', '17673', '27122', '27263', '27432', '27260', '27596', '27089', '27507', '27665']\n",
      "Reviews for teachers from 3828 ~ 4539 were written in the database file\n"
     ]
    }
   ],
   "source": [
    "scrape_and_store_reviews_to_db(urls, 3828, len(urls))"
   ]
  },
  {
   "cell_type": "code",
   "execution_count": 113,
   "metadata": {},
   "outputs": [
    {
     "name": "stdout",
     "output_type": "stream",
     "text": [
      "1171.2078258991241\n",
      "\n",
      "These 95 teachers had no reviews. : ['26404', '26506', '27177', '27288', '27037', '17428', '27064', '27421', '26651', '27544', '27567', '27679', '27370', '26900', '26882', '27236', '27269', '27557', '27576', '27579', '27586', '27589', '27594', '27598', '27600', '27603', '27605', '27608', '27609', '27616', '27617', '27619', '27620', '27621', '27622', '27635', '27636', '27638', '27641', '27648', '27650', '27651', '27652', '27653', '27656', '27660', '27661', '27664', '27667', '27668', '27675', '27678', '27700', '27701', '27708', '27709', '27712', '27713', '27715', '27716', '27721', '27722', '27723', '27724', '27727', '27730', '27731', '27732', '27734', '27735', '27736', '27738', '27739', '27742', '27745', '27747', '27749', '27752', '27754', '27755', '27757', '27758', '27759', '27760', '27761', '27762', '27765', '27766', '27767', '27777', '27779', '27780', '27783', '27786', '27787']\n",
      "Reviews for teachers from 4539 ~ 4741 were written in the database file\n"
     ]
    }
   ],
   "source": [
    "scrape_and_store_reviews_to_db(urls, 4539, len(urls))"
   ]
  },
  {
   "cell_type": "markdown",
   "metadata": {},
   "source": [
    "# Load in row teacher info to DataFrame \"teachers\" from a database file"
   ]
  },
  {
   "cell_type": "code",
   "execution_count": 172,
   "metadata": {
    "scrolled": true
   },
   "outputs": [
    {
     "name": "stdout",
     "output_type": "stream",
     "text": [
      "(314505, 5) 4558\n"
     ]
    },
    {
     "data": {
      "text/html": [
       "<div>\n",
       "<style scoped>\n",
       "    .dataframe tbody tr th:only-of-type {\n",
       "        vertical-align: middle;\n",
       "    }\n",
       "\n",
       "    .dataframe tbody tr th {\n",
       "        vertical-align: top;\n",
       "    }\n",
       "\n",
       "    .dataframe thead th {\n",
       "        text-align: right;\n",
       "    }\n",
       "</style>\n",
       "<table border=\"1\" class=\"dataframe\">\n",
       "  <thead>\n",
       "    <tr style=\"text-align: right;\">\n",
       "      <th></th>\n",
       "      <th>teacher_id</th>\n",
       "      <th>name</th>\n",
       "      <th>date</th>\n",
       "      <th>rating</th>\n",
       "      <th>review</th>\n",
       "    </tr>\n",
       "  </thead>\n",
       "  <tbody>\n",
       "    <tr>\n",
       "      <th>0</th>\n",
       "      <td>398</td>\n",
       "      <td>RIN</td>\n",
       "      <td>2019-01-05 00:00:00</td>\n",
       "      <td>5</td>\n",
       "      <td>素晴らしい先生です！！</td>\n",
       "    </tr>\n",
       "    <tr>\n",
       "      <th>1</th>\n",
       "      <td>398</td>\n",
       "      <td>MAKO</td>\n",
       "      <td>2018-12-21 00:00:00</td>\n",
       "      <td>5</td>\n",
       "      <td>知的で穏やか、そしてとてもお優しく素敵な先生でした。レッスンもテキパキと進めてくださり充実し...</td>\n",
       "    </tr>\n",
       "    <tr>\n",
       "      <th>2</th>\n",
       "      <td>398</td>\n",
       "      <td>sunamin</td>\n",
       "      <td>2018-12-18 00:00:00</td>\n",
       "      <td>5</td>\n",
       "      <td>定期的にJules先生のレッスン取っています。とても穏やかで優しい講師だと思います。</td>\n",
       "    </tr>\n",
       "    <tr>\n",
       "      <th>3</th>\n",
       "      <td>398</td>\n",
       "      <td>Coco</td>\n",
       "      <td>2018-12-11 00:00:00</td>\n",
       "      <td>5</td>\n",
       "      <td>話しやすく明るい素敵な先生でした。(^^♪</td>\n",
       "    </tr>\n",
       "    <tr>\n",
       "      <th>4</th>\n",
       "      <td>398</td>\n",
       "      <td>Cindy</td>\n",
       "      <td>2018-12-05 00:00:00</td>\n",
       "      <td>5</td>\n",
       "      <td>優しくて、話しやすい。発音も聞き取りやすく、生徒の目的に応じたレッスンを提供しようという思い...</td>\n",
       "    </tr>\n",
       "  </tbody>\n",
       "</table>\n",
       "</div>"
      ],
      "text/plain": [
       "   teacher_id     name                 date  rating  \\\n",
       "0         398      RIN  2019-01-05 00:00:00       5   \n",
       "1         398     MAKO  2018-12-21 00:00:00       5   \n",
       "2         398  sunamin  2018-12-18 00:00:00       5   \n",
       "3         398     Coco  2018-12-11 00:00:00       5   \n",
       "4         398    Cindy  2018-12-05 00:00:00       5   \n",
       "\n",
       "                                              review  \n",
       "0                                        素晴らしい先生です！！  \n",
       "1  知的で穏やか、そしてとてもお優しく素敵な先生でした。レッスンもテキパキと進めてくださり充実し...  \n",
       "2         定期的にJules先生のレッスン取っています。とても穏やかで優しい講師だと思います。  \n",
       "3                              話しやすく明るい素敵な先生でした。(^^♪  \n",
       "4  優しくて、話しやすい。発音も聞き取りやすく、生徒の目的に応じたレッスンを提供しようという思い...  "
      ]
     },
     "execution_count": 172,
     "metadata": {},
     "output_type": "execute_result"
    }
   ],
   "source": [
    "# load teachers' data from database file to dataframe\n",
    "\n",
    "conn = sqlite3.connect(\"reviews.db\")\n",
    "reviews = pd.read_sql(\"SELECT * FROM reviews\",conn)\n",
    "print(reviews.shape, reviews.teacher_id.nunique())\n",
    "teachers.head()"
   ]
  },
  {
   "cell_type": "markdown",
   "metadata": {},
   "source": [
    "# Drop duplicated rows from reviews dataframe / replace 0 to np.nan in rating\n",
    "# Then store it in \"database2.db\""
   ]
  },
  {
   "cell_type": "code",
   "execution_count": 180,
   "metadata": {},
   "outputs": [],
   "source": [
    "# remove duplicated rows\n",
    "reviews2 = reviews.copy().drop_duplicates()\n",
    "reviews2.rating = reviews2.rating.replace(0,np.nan)\n",
    "\n",
    "# I have found that if one's name is \"Nan\", then it was taken as null value.\n",
    "# So I replace them in the \"name\" column.\n",
    "\n",
    "reviews2.name = reviews2.name.copy().replace(np.nan, \"noname\")\n",
    "\n",
    "reviews2.shape\n",
    "\n",
    "# save the cleaned dataframe \"reviews2\" in \"database2.db\"\n",
    "conn = sqlite3.connect(\"reviews2.db\")\n",
    "reviews2.to_sql(\"reviews\", conn, if_exists=\"replace\", index=False)"
   ]
  },
  {
   "cell_type": "code",
   "execution_count": 181,
   "metadata": {},
   "outputs": [
    {
     "name": "stdout",
     "output_type": "stream",
     "text": [
      "(313058, 5)\n"
     ]
    }
   ],
   "source": [
    "# just check dataframe without duplicates is in \"database2.db\"\n",
    "conn = sqlite3.connect(\"reviews2.db\")\n",
    "reviews_check = pd.read_sql(\"SELECT * FROM reviews\",conn)\n",
    "print(reviews_check.shape)"
   ]
  },
  {
   "cell_type": "code",
   "execution_count": null,
   "metadata": {},
   "outputs": [],
   "source": []
  }
 ],
 "metadata": {
  "kernelspec": {
   "display_name": "Python [default]",
   "language": "python",
   "name": "python3"
  },
  "language_info": {
   "codemirror_mode": {
    "name": "ipython",
    "version": 3
   },
   "file_extension": ".py",
   "mimetype": "text/x-python",
   "name": "python",
   "nbconvert_exporter": "python",
   "pygments_lexer": "ipython3",
   "version": "3.6.7"
  }
 },
 "nbformat": 4,
 "nbformat_minor": 2
}
