{
 "cells": [
  {
   "cell_type": "code",
   "execution_count": 69,
   "metadata": {},
   "outputs": [],
   "source": [
    "import pandas as pd\n",
    "import numpy as np\n",
    "import requests\n",
    "from bs4 import BeautifulSoup\n",
    "import re\n",
    "import time\n",
    "import sqlite3\n",
    "import pickle\n",
    "import matplotlib\n",
    "import matplotlib.pyplot as plt\n",
    "import sys\n",
    "from requests.exceptions import ConnectionError\n",
    "\n",
    "pd.set_option('display.max_columns', 500)\n",
    "pd.options.display.max_rows = 100\n",
    "pd.options.display.max_colwidth = 100\n",
    "matplotlib.rcParams['font.family'] = 'AppleGothic'\n",
    "\n",
    "%matplotlib inline"
   ]
  },
  {
   "cell_type": "markdown",
   "metadata": {},
   "source": [
    "#  Prep1. Create Country's List, Dictionary"
   ]
  },
  {
   "cell_type": "code",
   "execution_count": 2,
   "metadata": {},
   "outputs": [],
   "source": [
    "r = requests.get(\"http://eikaiwa.dmm.com/list/\")\n",
    "bs_list = BeautifulSoup(r.text, \"lxml\")\n",
    "\n",
    "countries = bs_list.find_all(\"span\", {\"class\":\"text_adjust\"})\n",
    "\n",
    "region_list = [\"アジア\",\"ヨーロッパ\",\"北米\",\"中南米\",\"オセアニア\",\"中東\",\"アフリカ\"]\n",
    "region_dict = {}\n",
    "country_list = []\n",
    "native_countries = ['アイルランド','イギリス','南アフリカ','アメリカ合衆国','カナダ','オーストラリア','ニュージーランド']\n",
    "\n",
    "for country in countries:\n",
    "    country_list.append(country.getText().strip())\n",
    "\n",
    "for i,country in enumerate(country_list):\n",
    "    if country == \"アジア\":\n",
    "        \n",
    "        # when asia emerges twice (when the loop is in the 2nd iteration)\n",
    "        if i > 1:\n",
    "            break\n",
    "        asia = i\n",
    "    elif country == \"ヨーロッパ\" : euro = i\n",
    "    elif country == \"北米\" : n_america = i\n",
    "    elif country == \"中南米\" : s_america = i\n",
    "    elif country == \"オセアニア\" : oceania = i\n",
    "    elif country == \"中東\" : middle = i\n",
    "    elif country == \"アフリカ\" : africa = i\n",
    "    \n",
    "region_dict[\"asia\"] = country_list[asia+1: euro]\n",
    "region_dict[\"europe\"] = country_list[euro+1: n_america]\n",
    "region_dict[\"north_america\"] = country_list[n_america+1: s_america]\n",
    "region_dict[\"south_america\"] = country_list[s_america+1: oceania]\n",
    "region_dict[\"oceania\"] = country_list[oceania+1: middle]\n",
    "region_dict[\"middle_east\"] = country_list[middle+1: africa]\n",
    "region_dict[\"africa\"] = country_list[africa+1:]"
   ]
  },
  {
   "cell_type": "code",
   "execution_count": 3,
   "metadata": {},
   "outputs": [
    {
     "data": {
      "text/plain": [
       "['アメリカ合衆国', 'カナダ']"
      ]
     },
     "execution_count": 3,
     "metadata": {},
     "output_type": "execute_result"
    }
   ],
   "source": [
    "region_dict[\"north_america\"]"
   ]
  },
  {
   "cell_type": "markdown",
   "metadata": {},
   "source": [
    "# Prep2. Create tag list\n",
    "\n",
    "ネイティブ、新人はtag内に入ってないので注意。\n",
    "新人とはまだfavが付いてない講師を表しているため講師歴が３年以上でも新人で検索すると表示される講師もいる。\n",
    "\"Let's Go対応\"に関してはスペースを取り除いた。"
   ]
  },
  {
   "cell_type": "code",
   "execution_count": 4,
   "metadata": {},
   "outputs": [
    {
     "data": {
      "text/plain": [
       "['日本人講師',\n",
       " 'ビジネス英会話',\n",
       " '講師歴3年以上',\n",
       " 'キッズ向け',\n",
       " 'TOEFL対応',\n",
       " '初心者向け',\n",
       " '上級者向け',\n",
       " 'スピーキングテスト対応',\n",
       " \"Let'sGo対応\",\n",
       " '英検®対応',\n",
       " 'IELTS',\n",
       " 'ネイティブ講師',\n",
       " '新人講師']"
      ]
     },
     "execution_count": 4,
     "metadata": {},
     "output_type": "execute_result"
    }
   ],
   "source": [
    "tags = bs_list.find(\"div\",{\"class\":\"special-checkbox\"}).find_all(\"label\")\n",
    "tags_list = []\n",
    "\n",
    "for tag in tags:\n",
    "    tags_list.append(tag.getText().replace(\" \", \"\").strip())\n",
    "\n",
    "tags_list"
   ]
  },
  {
   "cell_type": "markdown",
   "metadata": {},
   "source": [
    "# Prep3. Extract all teachers' URL (that is, all indices used for teachers' URL)\n",
    "# (Don't Run!)\n",
    "\n",
    "Begin scraping from the 2nd page of \"all teachers\"."
   ]
  },
  {
   "cell_type": "code",
   "execution_count": 9,
   "metadata": {},
   "outputs": [],
   "source": [
    "teacher_url = []"
   ]
  },
  {
   "cell_type": "code",
   "execution_count": null,
   "metadata": {},
   "outputs": [],
   "source": [
    "def append_teacher_url_to_list(url):\n",
    "    bs = BeautifulSoup(requests.get(url).text, \"lxml\")\n",
    "    teachers_in_page = bs.find_all(\"div\",{\"class\":\"profile_pictures non_favorite \"})\n",
    "    \n",
    "    #get teacher indicies from the page\n",
    "    for each_teacher in teachers_in_page:\n",
    "        teacher_url.append(\"http://eikaiwa.dmm.com\" + each_teacher.find(\"a\")[\"href\"])"
   ]
  },
  {
   "cell_type": "code",
   "execution_count": null,
   "metadata": {},
   "outputs": [],
   "source": [
    "def get_next_page_url(url, page):\n",
    "    bs = BeautifulSoup(requests.get(url).text, \"lxml\")\n",
    "    urls = bs.find(\"div\", {\"class\":\"list-boxpagenation\"}).find_all(\"a\")\n",
    "\n",
    "    for i in range(10):\n",
    "        if urls[i].getText() == str(page + 1):\n",
    "            prev_url = urls[i][\"href\"]\n",
    "            return \"http://eikaiwa.dmm.com\" + prev_url\n",
    "        \n",
    "    exit()"
   ]
  },
  {
   "cell_type": "code",
   "execution_count": null,
   "metadata": {},
   "outputs": [],
   "source": [
    "def get_previous_page_url(url):\n",
    "    bs = BeautifulSoup(requests.get(url).text, \"lxml\")\n",
    "    prev_url = bs.find(\"div\", {\"class\":\"list-boxpagenation\"}).find_all(\"a\")[0][\"href\"]\n",
    "    return \"http://eikaiwa.dmm.com\" + prev_url"
   ]
  },
  {
   "cell_type": "code",
   "execution_count": null,
   "metadata": {},
   "outputs": [],
   "source": [
    "# url of 2nd page of \"all teachers\"\n",
    "second_url = \"http://eikaiwa.dmm.com/list/?param=BFsBAVxNEggJVQsaQEIHRRU6Ql9dXEYCEVgDXBALWF4AQwtKXA5bEF0LVWdHXwtSQ15FDAQDRlcNDFJECRYNCF9DUlYJXQBQVAATA1oMVgwSXwIMEk0dSQdADAcIVQ1LGBIKDlwUAl1NC0VKShRdXltVDUUKD14bBQdZAlcXFQsMWwACFQxSCBoEVl0RDRUNV18U04mNjYTAQAwVCFENEgsAXVxEDS8JS18FAhFSB0MERw1FCghUA0BQB1cKSAYCSFIBG11FWwYCR0JXQUJEDBJfBwwSDUYCEVgOXBADRVUAPkdWFFJDCUtfAQIRFF1EW10MFFZYElYQC0MDEF55CxZbBgNEWABGURNUGgh4XURbVAcMElcFTQsUUjlBDVhHR1p*AhUMUggaC1RPEQ0PDVFeRQwBCF4bCBJoElcEVFgAE0MbXXhaQQJRCxpDVwFSQ15fDAICFwNRWBUSUwcVCwxbAQIb\"\n",
    "\n",
    "# url of 1st page of \"all teachers\"\n",
    "first_url = get_previous_page_url(second_url)\n",
    "append_teacher_url_to_list(first_url)"
   ]
  },
  {
   "cell_type": "code",
   "execution_count": null,
   "metadata": {},
   "outputs": [],
   "source": [
    "current_url = second_url\n",
    "scraped_pages = [1]\n",
    "\n",
    "for i in range(500):\n",
    "    try:\n",
    "        current_page = i + 2\n",
    "        append_teacher_url_to_list(current_url)\n",
    "        current_url = get_next_page_url(current_url, current_page)\n",
    "        scraped_pages.append(current_page)\n",
    "        if current_page % 50 == 0 : print(current_page)\n",
    "        time.sleep(1)\n",
    "    except Exception as e:\n",
    "        print(scraped_pages, len(teacher_url))\n",
    "        print(current_page, e)\n",
    "        break"
   ]
  },
  {
   "cell_type": "markdown",
   "metadata": {},
   "source": [
    "# Store teachers' URL in a text file. (Don't Run)"
   ]
  },
  {
   "cell_type": "code",
   "execution_count": null,
   "metadata": {},
   "outputs": [],
   "source": [
    "f = open('teacher_urls.txt', 'wb')\n",
    "pickle.dump(teacher_url, f)\n",
    "f.close()"
   ]
  },
  {
   "cell_type": "markdown",
   "metadata": {},
   "source": [
    "# Load in teachers' URL to a list \"urls\" (Run!)"
   ]
  },
  {
   "cell_type": "code",
   "execution_count": 5,
   "metadata": {},
   "outputs": [],
   "source": [
    "f = open('teacher_urls.txt', 'rb')\n",
    "urls = pickle.load(f)\n",
    "f.close()"
   ]
  },
  {
   "cell_type": "code",
   "execution_count": 6,
   "metadata": {},
   "outputs": [
    {
     "data": {
      "text/plain": [
       "4743"
      ]
     },
     "execution_count": 6,
     "metadata": {},
     "output_type": "execute_result"
    }
   ],
   "source": [
    "len(urls)"
   ]
  },
  {
   "cell_type": "markdown",
   "metadata": {},
   "source": [
    "# Scrape raw teachers' info and store them into the database file"
   ]
  },
  {
   "cell_type": "code",
   "execution_count": 7,
   "metadata": {},
   "outputs": [],
   "source": [
    "def get_evalu_counts(teacher_id):\n",
    "\n",
    "    r =  requests.post(\"https://eikaiwa.dmm.com/teacher/tab_ajax_ratecomment/\",\n",
    "        data='teacher_id={}&page=1'.format(teacher_id),\n",
    "        headers={\n",
    "            \"accept\": \"*/*\",\n",
    "            \"accept-encoding\": \"gzip, deflate, br\",\n",
    "            \"accept-language\": \"en-US,en;q=0.9\",\n",
    "            \"authority\": \"eikaiwa.dmm.com\",\n",
    "            \"content-type\": \"application/x-www-form-urlencoded; charset=UTF-8\",\n",
    "            \"origin\": \"https://eikaiwa.dmm.com\",\n",
    "            \"referer\": \"https://eikaiwa.dmm.com/teacher/index/{}/\".format(teacher_id),\n",
    "            \"user-agent\": \"Mozilla/5.0 (Macintosh; Intel Mac OS X 10_12_6) AppleWebKit/537.36 (KHTML, like Gecko) Chrome/71.0.3578.98 Safari/537.36\",\n",
    "            \"x-requested-with\": \"XMLHttpRequest\"\n",
    "        },\n",
    "        cookies={\n",
    "            \"AMP_TOKEN\": \"%24NOT_FOUND\",\n",
    "            \"PHPSESSID\": \"d3b63b845f04033e8ba42225de244a88\",\n",
    "            \"__utma\": \"225231877.1937935001.1545231753.1546318067.1547193623.3\",\n",
    "            \"__utmb\": \"225231877.2.10.1547193623\",\n",
    "            \"__utmc\": \"225231877\",\n",
    "            \"__utmt\": \"1\",\n",
    "            \"__utmz\": \"225231877.1547193623.3.2.utmcsr=google|utmccn=(organic)|utmcmd=organic|utmctr=(not%20provided)\",\n",
    "            \"_dc_gtm_UA-48257133-1\": \"1\",\n",
    "            \"_dga\": \"GA1.3.1937935001.1545231753\",\n",
    "            \"_dga_gid\": \"GA1.3.1694366917.1547193623\",\n",
    "            \"_fbp\": \"fb.1.1547193626615.72004840\",\n",
    "            \"_gali\": \"ratecomment\",\n",
    "            \"app_uid\": \"ygb3J1waXYgdkRfaDtkSAg==\",\n",
    "            \"cX_G\": \"cx%3A3kv82phj0hx3mw4ofrjh1f8ur%3A3cguwtwuxac6i\",\n",
    "            \"cX_P\": \"jpvb385rfrdh4crx\",\n",
    "            \"cX_S\": \"jqrr4xovsbqzvxt7\",\n",
    "            \"i3_ab\": \"7460\"\n",
    "        },\n",
    "    )\n",
    "    bs = BeautifulSoup(r.text)\n",
    "    n_5 = int(bs.find_all(\"span\",{\"class\":\"total_star\"})[0].getText())\n",
    "    n_4 = int(bs.find_all(\"span\",{\"class\":\"total_star\"})[1].getText())\n",
    "    n_3 = int(bs.find_all(\"span\",{\"class\":\"total_star\"})[2].getText())\n",
    "    n_2 = int(bs.find_all(\"span\",{\"class\":\"total_star\"})[3].getText())\n",
    "    n_1 = int(bs.find_all(\"span\",{\"class\":\"total_star\"})[4].getText())\n",
    "    \n",
    "    #print(n_5, n_4, n_3, n_2, n_1)\n",
    "    return [n_5, n_4, n_3, n_2, n_1]"
   ]
  },
  {
   "cell_type": "code",
   "execution_count": 8,
   "metadata": {},
   "outputs": [],
   "source": [
    "def get_message(teacher_id):\n",
    "    \n",
    "    r = requests.post(\"https://eikaiwa.dmm.com/teacher/tab_ajax_message/\",\n",
    "        data='teacher_id={}'.format(teacher_id),\n",
    "        headers={\n",
    "            \"accept\": \"*/*\",\n",
    "            \"accept-encoding\": \"gzip, deflate, br\",\n",
    "            \"accept-language\": \"ja,en-US;q=0.9,en;q=0.8\",\n",
    "            \"authority\": \"eikaiwa.dmm.com\",\n",
    "            \"content-type\": \"application/x-www-form-urlencoded; charset=UTF-8\",\n",
    "            \"origin\": \"https://eikaiwa.dmm.com\",\n",
    "            \"referer\": \"https://eikaiwa.dmm.com//teacher/index/{}/area-message/\".format(teacher_id),\n",
    "            \"user-agent\": \"Mozilla/5.0 (Macintosh; Intel Mac OS X 10_12_6) AppleWebKit/537.36 (KHTML, like Gecko) Chrome/70.0.3538.110 Safari/537.36\",\n",
    "            \"x-requested-with\": \"XMLHttpRequest\"\n",
    "        },\n",
    "        cookies={\n",
    "            \"AMP_TOKEN\": \"%24NOT_FOUND\",\n",
    "            \"PHPSESSID\": \"fa0c214f4ff3c84e1f70d8607af7fe78\",\n",
    "            \"__utma\": \"225231877.1937935001.1545231753.1545231753.1546318067.2\",\n",
    "            \"__utmb\": \"225231877.1.10.1546318067\",\n",
    "            \"__utmc\": \"225231877\",\n",
    "            \"__utmt\": \"1\",\n",
    "            \"__utmz\": \"225231877.1545231753.1.1.utmcsr=google|utmccn=(organic)|utmcmd=organic|utmctr=(not%20provided)\",\n",
    "            \"_dga\": \"GA1.3.1937935001.1545231753\",\n",
    "            \"_dga_gid\": \"GA1.3.989924846.1546318069\",\n",
    "            \"_fbp\": \"fb.1.1546318069039.130775676\",\n",
    "            \"_gali\": \"message\",\n",
    "            \"app_uid\": \"ygb3J1waXYgdkRfaDtkSAg==\",\n",
    "            \"cX_G\": \"cx%3A3kv82phj0hx3mw4ofrjh1f8ur%3A3cguwtwuxac6i\",\n",
    "            \"cX_P\": \"jpvb385rfrdh4crx\",\n",
    "            \"cX_S\": \"jpvb385oxuzlj13w\",\n",
    "            \"i3_ab\": \"7460\"\n",
    "        },\n",
    "    )\n",
    "\n",
    "    return r.text"
   ]
  },
  {
   "cell_type": "code",
   "execution_count": 14,
   "metadata": {},
   "outputs": [],
   "source": [
    "def scrape_and_store_teacher_info_to_db(url_list, first_index, last_index):\n",
    "    t = time.time()\n",
    "    \n",
    "    teachers = pd.DataFrame(columns=[\"id\",\"name\",\"country\",\"age\",\"gender\",\"years\",\"school\",\\\n",
    "                                     \"hobby\",\"movie\",\"tag\",\"fav\",\"evalu\",\"n_evalu\",\\\n",
    "                                     \"rate5\",\"rate4\",\"rate3\",\"rate2\",\"rate1\",\"message\",\"staff_comment\"])\n",
    "    \n",
    "    for i, url in enumerate(url_list[ first_index:last_index ]):\n",
    "\n",
    "        try:\n",
    "            # get url and nake beautiful soup object\n",
    "            r = requests.get(url)\n",
    "            bs = BeautifulSoup(r.text, 'lxml')\n",
    "\n",
    "            # make the series to contain the info of teacher\n",
    "            teacher = pd.Series(index=[\"id\",\"name\",\"country\",\"age\",\"gender\",\"years\",\"school\",\\\n",
    "                                       \"hobby\",\"movie\",\"tag\",\"fav\",\"evalu\",\"n_evalu\",\\\n",
    "                                       \"rate5\",\"rate4\",\"rate3\",\"rate2\",\"rate1\",\"message\",\"staff_comment\"])\n",
    "\n",
    "            # store index number\n",
    "            teacher[\"id\"] = url.split(\"/\")[-2]\n",
    "\n",
    "            # scrape teacher name\n",
    "            teacher[\"name\"] = bs.find(\"div\",{\"class\":\"area-detail\"}).find(\"h1\").getText()\n",
    "\n",
    "\n",
    "            # scrap characteristics\n",
    "\n",
    "            info_types = bs.find(\"div\", {\"class\":\"confirm low\"}).find_all(\"dt\")\n",
    "            info_values = bs.find(\"div\", {\"class\":\"confirm low\"}).find_all(\"dd\")\n",
    "\n",
    "            for i_type, i_value in zip(info_types, info_values):\n",
    "                if i_type.getText() == \"国籍\" : teacher.country = i_value.getText().strip()\n",
    "                elif i_type.getText() == \"年齢\" : teacher.age = i_value.getText().strip()\n",
    "                elif i_type.getText() == \"性別\" : teacher.gender = i_value.getText().strip()\n",
    "                elif i_type.getText() == \"経歴\" : teacher.years = i_value.getText().strip()\n",
    "                elif i_type.getText() == \"出身校\" : teacher.school = i_value.getText().strip()\n",
    "                elif i_type.getText() == \"趣味\" : teacher.hobby = i_value.getText().strip()\n",
    "                elif i_type.getText() == \"好きな映画\" : teacher.movie = i_value.getText().strip()\n",
    "                elif i_type.getText() == \"特徴\" : teacher.tag = i_value.getText().strip()\n",
    "\n",
    "            # Check if the teacher has evaluation score\n",
    "            try:\n",
    "                teacher.evalu = bs.find(\"li\", {\"id\":\"num\"}).getText().strip()\n",
    "                teacher.n_evalu = bs.find(\"p\",{\"class\":\"total\",\"id\":\"total\"}).getText()[1:-2]\n",
    "                teacher[[\"rate5\",\"rate4\",\"rate3\",\"rate2\",\"rate1\"]] = get_evalu_counts(int(teacher.id))\n",
    "            except:\n",
    "                print(i, \"evaluation not found\", url)\n",
    "\n",
    "            # Check if the teacher has more than 0 favorite count\n",
    "            try:\n",
    "                teacher.fav = bs.find(\"span\", {\"id\":\"fav_count\"}).getText().strip()\n",
    "            except:\n",
    "                print(i, \"fav count not found\". url)\n",
    "\n",
    "            teacher.message = get_message(teacher.id)\n",
    "            teacher.staff_comment = bs.find(\"div\",{\"class\":\"area-staffcomment\"}).getText().strip()\n",
    "\n",
    "            teachers = pd.concat([teachers, pd.DataFrame([teacher], columns=teacher.index)])\n",
    "\n",
    "            if i % 200 == 0 : print(i)\n",
    "            time.sleep(1)\n",
    "        \n",
    "        # Terinate without writing file if the connection fails in the middle\n",
    "        except ConnectionError as e:    \n",
    "            print(e)\n",
    "            print(\"\\nNo data was written in the database file.\")\n",
    "            print(\"Run this cell again\")\n",
    "            \n",
    "            sys.exit(1)    \n",
    "        \n",
    "        except Exception as e:\n",
    "            print(i,e,url)\n",
    "            \n",
    "    print(time.time() - t)\n",
    "    \n",
    "    # store teachers' info only when this part is reached to\n",
    "    conn = sqlite3.connect(\"raw_teachers_data2.db\")\n",
    "    teachers.to_sql(\"profiles\", conn, if_exists=\"append\", index=False)\n",
    "    print(\"All data was written in the database file\")"
   ]
  },
  {
   "cell_type": "code",
   "execution_count": 15,
   "metadata": {
    "scrolled": true
   },
   "outputs": [
    {
     "name": "stdout",
     "output_type": "stream",
     "text": [
      "0\n",
      "152 'NoneType' object has no attribute 'find' http://eikaiwa.dmm.com/teacher/index/27530/\n",
      "200\n",
      "272 'NoneType' object has no attribute 'find' http://eikaiwa.dmm.com/teacher/index/24355/\n",
      "400\n",
      "558 'NoneType' object has no attribute 'find' http://eikaiwa.dmm.com/teacher/index/25262/\n",
      "575 'NoneType' object has no attribute 'find' http://eikaiwa.dmm.com/teacher/index/26978/\n",
      "3237.0670669078827\n",
      "All data was written in the database file\n"
     ]
    }
   ],
   "source": [
    "scrape_and_store_teacher_info_to_db(urls, 0, 600)"
   ]
  },
  {
   "cell_type": "code",
   "execution_count": 16,
   "metadata": {},
   "outputs": [
    {
     "name": "stdout",
     "output_type": "stream",
     "text": [
      "0\n",
      "200\n",
      "400\n",
      "449 'NoneType' object has no attribute 'find' http://eikaiwa.dmm.com/teacher/index/19373/\n",
      "532 'NoneType' object has no attribute 'find' http://eikaiwa.dmm.com/teacher/index/25866/\n",
      "542 'NoneType' object has no attribute 'find' http://eikaiwa.dmm.com/teacher/index/26432/\n",
      "3253.2909440994263\n",
      "All data was written in the database file\n"
     ]
    }
   ],
   "source": [
    "scrape_and_store_teacher_info_to_db(urls, 600, 1200)"
   ]
  },
  {
   "cell_type": "code",
   "execution_count": 17,
   "metadata": {},
   "outputs": [
    {
     "name": "stdout",
     "output_type": "stream",
     "text": [
      "0\n",
      "200\n",
      "342 'NoneType' object has no attribute 'find' http://eikaiwa.dmm.com/teacher/index/19927/\n",
      "400\n",
      "3266.6883261203766\n",
      "All data was written in the database file\n"
     ]
    }
   ],
   "source": [
    "scrape_and_store_teacher_info_to_db(urls, 1200, 1800)"
   ]
  },
  {
   "cell_type": "code",
   "execution_count": 18,
   "metadata": {},
   "outputs": [
    {
     "name": "stdout",
     "output_type": "stream",
     "text": [
      "0\n",
      "167 'NoneType' object has no attribute 'find' http://eikaiwa.dmm.com/teacher/index/18783/\n",
      "200\n",
      "220 'NoneType' object has no attribute 'find' http://eikaiwa.dmm.com/teacher/index/23728/\n",
      "328 'NoneType' object has no attribute 'find' http://eikaiwa.dmm.com/teacher/index/9925/\n",
      "400\n",
      "495 'NoneType' object has no attribute 'find' http://eikaiwa.dmm.com/teacher/index/3811/\n",
      "3251.4948449134827\n",
      "All data was written in the database file\n"
     ]
    }
   ],
   "source": [
    "scrape_and_store_teacher_info_to_db(urls, 1800, 2400)"
   ]
  },
  {
   "cell_type": "code",
   "execution_count": 19,
   "metadata": {},
   "outputs": [
    {
     "name": "stdout",
     "output_type": "stream",
     "text": [
      "0\n",
      "71 'NoneType' object has no attribute 'find' http://eikaiwa.dmm.com/teacher/index/26822/\n",
      "200\n",
      "346 'NoneType' object has no attribute 'find' http://eikaiwa.dmm.com/teacher/index/17481/\n",
      "400\n",
      "3204.755239009857\n",
      "All data was written in the database file\n"
     ]
    }
   ],
   "source": [
    "scrape_and_store_teacher_info_to_db(urls, 2400, 3000)"
   ]
  },
  {
   "cell_type": "code",
   "execution_count": 20,
   "metadata": {},
   "outputs": [
    {
     "name": "stdout",
     "output_type": "stream",
     "text": [
      "0\n",
      "125 'NoneType' object has no attribute 'find' http://eikaiwa.dmm.com/teacher/index/26731/\n",
      "200\n",
      "310 'NoneType' object has no attribute 'find' http://eikaiwa.dmm.com/teacher/index/17036/\n",
      "334 'NoneType' object has no attribute 'find' http://eikaiwa.dmm.com/teacher/index/22430/\n",
      "400\n",
      "545 'NoneType' object has no attribute 'find' http://eikaiwa.dmm.com/teacher/index/15608/\n",
      "577 'NoneType' object has no attribute 'find' http://eikaiwa.dmm.com/teacher/index/23623/\n",
      "3213.3905849456787\n",
      "All data was written in the database file\n"
     ]
    }
   ],
   "source": [
    "scrape_and_store_teacher_info_to_db(urls, 3000, 3600)"
   ]
  },
  {
   "cell_type": "code",
   "execution_count": 21,
   "metadata": {},
   "outputs": [
    {
     "name": "stdout",
     "output_type": "stream",
     "text": [
      "0\n",
      "200\n",
      "241 'NoneType' object has no attribute 'find' http://eikaiwa.dmm.com/teacher/index/22561/\n",
      "381 'NoneType' object has no attribute 'find' http://eikaiwa.dmm.com/teacher/index/26835/\n",
      "400\n",
      "404 'NoneType' object has no attribute 'find' http://eikaiwa.dmm.com/teacher/index/11034/\n",
      "515 'NoneType' object has no attribute 'find' http://eikaiwa.dmm.com/teacher/index/18750/\n",
      "540 'NoneType' object has no attribute 'find' http://eikaiwa.dmm.com/teacher/index/6224/\n",
      "548 'NoneType' object has no attribute 'find' http://eikaiwa.dmm.com/teacher/index/15255/\n",
      "593 'NoneType' object has no attribute 'find' http://eikaiwa.dmm.com/teacher/index/14926/\n",
      "3202.1952390670776\n",
      "All data was written in the database file\n"
     ]
    }
   ],
   "source": [
    "scrape_and_store_teacher_info_to_db(urls, 3600, 4200)"
   ]
  },
  {
   "cell_type": "code",
   "execution_count": 22,
   "metadata": {},
   "outputs": [
    {
     "name": "stdout",
     "output_type": "stream",
     "text": [
      "0\n",
      "3 'NoneType' object has no attribute 'find' http://eikaiwa.dmm.com/teacher/index/23841/\n",
      "12 'NoneType' object has no attribute 'find' http://eikaiwa.dmm.com/teacher/index/27241/\n",
      "61 'NoneType' object has no attribute 'find' http://eikaiwa.dmm.com/teacher/index/13777/\n",
      "62 'NoneType' object has no attribute 'find' http://eikaiwa.dmm.com/teacher/index/14138/\n",
      "73 'NoneType' object has no attribute 'find' http://eikaiwa.dmm.com/teacher/index/25799/\n",
      "103 'NoneType' object has no attribute 'find' http://eikaiwa.dmm.com/teacher/index/5687/\n",
      "123 'NoneType' object has no attribute 'find' http://eikaiwa.dmm.com/teacher/index/25339/\n",
      "135 'NoneType' object has no attribute 'find' http://eikaiwa.dmm.com/teacher/index/16608/\n",
      "140 'NoneType' object has no attribute 'find' http://eikaiwa.dmm.com/teacher/index/24673/\n",
      "168 'NoneType' object has no attribute 'find' http://eikaiwa.dmm.com/teacher/index/26177/\n",
      "200 'NoneType' object has no attribute 'find' http://eikaiwa.dmm.com/teacher/index/12007/\n",
      "289 'NoneType' object has no attribute 'find' http://eikaiwa.dmm.com/teacher/index/2577/\n",
      "323 'NoneType' object has no attribute 'find' http://eikaiwa.dmm.com/teacher/index/22776/\n",
      "361 'NoneType' object has no attribute 'find' http://eikaiwa.dmm.com/teacher/index/20710/\n",
      "362 'NoneType' object has no attribute 'find' http://eikaiwa.dmm.com/teacher/index/25192/\n",
      "382 'NoneType' object has no attribute 'find' http://eikaiwa.dmm.com/teacher/index/14717/\n",
      "383 'NoneType' object has no attribute 'find' http://eikaiwa.dmm.com/teacher/index/26065/\n",
      "400\n",
      "416 'NoneType' object has no attribute 'find' http://eikaiwa.dmm.com/teacher/index/5432/\n",
      "424 'NoneType' object has no attribute 'find' http://eikaiwa.dmm.com/teacher/index/27614/\n",
      "440 'NoneType' object has no attribute 'find' http://eikaiwa.dmm.com/teacher/index/27236/\n",
      "445 evaluation not found http://eikaiwa.dmm.com/teacher/index/27576/\n",
      "446 evaluation not found http://eikaiwa.dmm.com/teacher/index/27579/\n",
      "448 'NoneType' object has no attribute 'find' http://eikaiwa.dmm.com/teacher/index/27586/\n",
      "449 evaluation not found http://eikaiwa.dmm.com/teacher/index/27589/\n",
      "451 evaluation not found http://eikaiwa.dmm.com/teacher/index/27594/\n",
      "452 evaluation not found http://eikaiwa.dmm.com/teacher/index/27598/\n",
      "455 evaluation not found http://eikaiwa.dmm.com/teacher/index/27603/\n",
      "457 evaluation not found http://eikaiwa.dmm.com/teacher/index/27608/\n",
      "458 evaluation not found http://eikaiwa.dmm.com/teacher/index/27609/\n",
      "460 evaluation not found http://eikaiwa.dmm.com/teacher/index/27616/\n",
      "461 evaluation not found http://eikaiwa.dmm.com/teacher/index/27617/\n",
      "462 evaluation not found http://eikaiwa.dmm.com/teacher/index/27619/\n",
      "463 evaluation not found http://eikaiwa.dmm.com/teacher/index/27620/\n",
      "464 evaluation not found http://eikaiwa.dmm.com/teacher/index/27621/\n",
      "465 evaluation not found http://eikaiwa.dmm.com/teacher/index/27622/\n",
      "469 evaluation not found http://eikaiwa.dmm.com/teacher/index/27635/\n",
      "470 evaluation not found http://eikaiwa.dmm.com/teacher/index/27636/\n",
      "471 evaluation not found http://eikaiwa.dmm.com/teacher/index/27638/\n",
      "474 evaluation not found http://eikaiwa.dmm.com/teacher/index/27650/\n",
      "475 evaluation not found http://eikaiwa.dmm.com/teacher/index/27651/\n",
      "481 evaluation not found http://eikaiwa.dmm.com/teacher/index/27661/\n",
      "485 evaluation not found http://eikaiwa.dmm.com/teacher/index/27675/\n",
      "486 evaluation not found http://eikaiwa.dmm.com/teacher/index/27678/\n",
      "487 evaluation not found http://eikaiwa.dmm.com/teacher/index/27700/\n",
      "488 evaluation not found http://eikaiwa.dmm.com/teacher/index/27701/\n",
      "490 evaluation not found http://eikaiwa.dmm.com/teacher/index/27709/\n",
      "491 evaluation not found http://eikaiwa.dmm.com/teacher/index/27712/\n",
      "493 evaluation not found http://eikaiwa.dmm.com/teacher/index/27715/\n",
      "494 evaluation not found http://eikaiwa.dmm.com/teacher/index/27716/\n",
      "497 evaluation not found http://eikaiwa.dmm.com/teacher/index/27721/\n",
      "500 evaluation not found http://eikaiwa.dmm.com/teacher/index/27724/\n",
      "502 evaluation not found http://eikaiwa.dmm.com/teacher/index/27727/\n",
      "514 evaluation not found http://eikaiwa.dmm.com/teacher/index/27742/\n",
      "516 evaluation not found http://eikaiwa.dmm.com/teacher/index/27745/\n",
      "517 evaluation not found http://eikaiwa.dmm.com/teacher/index/27747/\n",
      "521 evaluation not found http://eikaiwa.dmm.com/teacher/index/27752/\n",
      "525 evaluation not found http://eikaiwa.dmm.com/teacher/index/27757/\n",
      "526 evaluation not found http://eikaiwa.dmm.com/teacher/index/27758/\n",
      "527 evaluation not found http://eikaiwa.dmm.com/teacher/index/27759/\n",
      "528 evaluation not found http://eikaiwa.dmm.com/teacher/index/27760/\n",
      "531 'NoneType' object has no attribute 'find' http://eikaiwa.dmm.com/teacher/index/27765/\n",
      "532 evaluation not found http://eikaiwa.dmm.com/teacher/index/27766/\n",
      "537 evaluation not found http://eikaiwa.dmm.com/teacher/index/27780/\n",
      "539 evaluation not found http://eikaiwa.dmm.com/teacher/index/27783/\n",
      "541 evaluation not found http://eikaiwa.dmm.com/teacher/index/27786/\n",
      "2774.336344718933\n",
      "All data was written in the database file\n"
     ]
    }
   ],
   "source": [
    "scrape_and_store_teacher_info_to_db(urls, 4200, len(urls))"
   ]
  },
  {
   "cell_type": "markdown",
   "metadata": {},
   "source": [
    "# Load in row teacher info to DataFrame \"teachers\" from a database file"
   ]
  },
  {
   "cell_type": "code",
   "execution_count": null,
   "metadata": {
    "scrolled": true
   },
   "outputs": [],
   "source": [
    "# load teachers' data from database file to dataframe\n",
    "\n",
    "conn = sqlite3.connect(\"raw_teachers_data2.db\")\n",
    "teachers = pd.read_sql(\"SELECT * FROM profiles\",conn)\n",
    "teachers.head()"
   ]
  },
  {
   "cell_type": "code",
   "execution_count": 135,
   "metadata": {
    "scrolled": false
   },
   "outputs": [
    {
     "data": {
      "text/plain": [
       "((4695, 20), 4743)"
      ]
     },
     "execution_count": 135,
     "metadata": {},
     "output_type": "execute_result"
    }
   ],
   "source": [
    "teachers.shape, len(urls)"
   ]
  },
  {
   "cell_type": "markdown",
   "metadata": {},
   "source": [
    "# Clean Teachers' DataFrame"
   ]
  },
  {
   "cell_type": "code",
   "execution_count": 154,
   "metadata": {},
   "outputs": [],
   "source": [
    "teachers2 = teachers.copy()"
   ]
  },
  {
   "cell_type": "code",
   "execution_count": 155,
   "metadata": {},
   "outputs": [
    {
     "name": "stdout",
     "output_type": "stream",
     "text": [
      "<class 'pandas.core.frame.DataFrame'>\n",
      "RangeIndex: 4695 entries, 0 to 4694\n",
      "Data columns (total 20 columns):\n",
      "id               4695 non-null float64\n",
      "name             4695 non-null object\n",
      "country          4695 non-null object\n",
      "age              4597 non-null object\n",
      "gender           4695 non-null object\n",
      "years            4695 non-null object\n",
      "school           4695 non-null object\n",
      "hobby            4695 non-null object\n",
      "movie            4695 non-null object\n",
      "tag              4695 non-null object\n",
      "fav              4695 non-null object\n",
      "evalu            4652 non-null object\n",
      "n_evalu          4652 non-null object\n",
      "rate5            4652 non-null float64\n",
      "rate4            4652 non-null float64\n",
      "rate3            4652 non-null float64\n",
      "rate2            4652 non-null float64\n",
      "rate1            4652 non-null float64\n",
      "message          4695 non-null object\n",
      "staff_comment    4695 non-null object\n",
      "dtypes: float64(6), object(14)\n",
      "memory usage: 733.7+ KB\n"
     ]
    }
   ],
   "source": [
    "teachers2.info()"
   ]
  },
  {
   "cell_type": "code",
   "execution_count": 156,
   "metadata": {},
   "outputs": [],
   "source": [
    "# confirm that there is no duplicate rows\n",
    "assert teachers2.duplicated().sum() == 0"
   ]
  },
  {
   "cell_type": "code",
   "execution_count": 157,
   "metadata": {
    "scrolled": true
   },
   "outputs": [
    {
     "data": {
      "text/plain": [
       "array(['プラスネイティブプランのユーザー様に限り、日本人講師のレッスンをご予約いただけます（試験運用中）。「学習カウンセリング」を受けたり、英語に関する疑問を日本語で質問をすることが可能となります。「海外生活」、「旅行」、「試験対策」、など様々なトピックについてご相談いただけます。また、無料体験の際にも一度だけ受講可能です。「いきなり外国人の先生と話せない。」「レッスンの進め方が不安。」という方でも安心です。',\n",
       "       'この講師は無料体験レッスン専用講師です。無料体験の際に一度だけ受講可能です。 「いきなり外国人の先生と話せない。」「レッスンの進め方が不安。」という方のためのプロの日本人講師です。\\u3000日本人講師と一緒にレッスンの流れを掴んで素敵なオンライン英会話デビューを飾りましょう！※現在、試験的にネイティブプランのユーザーも受講可能としています。そちらは予告なく提供を終了する場合がございます。'],\n",
       "      dtype=object)"
      ]
     },
     "execution_count": 157,
     "metadata": {},
     "output_type": "execute_result"
    }
   ],
   "source": [
    "teachers2[teachers2.country == \"日本\"].staff_comment.unique()"
   ]
  },
  {
   "cell_type": "code",
   "execution_count": 158,
   "metadata": {},
   "outputs": [],
   "source": [
    "#Convert columns to suitable types\n",
    "teachers2.age = teachers2.age.fillna(-1)\n",
    "teachers2[[\"id\",\"age\",\"fav\"]] = teachers2[[\"id\",\"age\",\"fav\"]].astype(int)\n",
    "teachers2.evalu = teachers2.evalu.astype(float)\n",
    "teachers2.age = teachers2.age.replace(-1,np.nan)"
   ]
  },
  {
   "cell_type": "code",
   "execution_count": 159,
   "metadata": {},
   "outputs": [],
   "source": [
    "## make each tag's column from \"tag\"\n",
    "\n",
    "# skip  \"\\n\\n\\n\" between tags\n",
    "teachers2.tag = teachers2.tag.replace(\"Let's Go対応\",\"Let'sGo対応\").replace(\" \",\"\").str.split()"
   ]
  },
  {
   "cell_type": "code",
   "execution_count": 160,
   "metadata": {},
   "outputs": [],
   "source": [
    "# add columns of tags which is filled with 0\n",
    "\n",
    "for tag in tags_list:\n",
    "    teachers2[tag] = 0"
   ]
  },
  {
   "cell_type": "code",
   "execution_count": 161,
   "metadata": {},
   "outputs": [],
   "source": [
    "# turn 0 into 1 in each column of tags according to the column \"tag\"\n",
    "\n",
    "for i, t_list in enumerate(teachers2.tag):\n",
    "    teacher_tags = set(t_list).intersection(set(tags_list))\n",
    "\n",
    "    for each_tag in teacher_tags:\n",
    "        teachers2.loc[teachers2.index[i], each_tag] = 1\n",
    "        \n",
    "    if (teachers.country.iloc[i] in native_countries):\n",
    "        teachers2.loc[teachers2.index[i], \"ネイティブ講師\"] = 1\n",
    "        \n",
    "# drop column \"tag\" which is not needed any more\n",
    "teachers2 = teachers2.drop(axis=1, labels=\"tag\")"
   ]
  },
  {
   "cell_type": "code",
   "execution_count": 162,
   "metadata": {},
   "outputs": [],
   "source": [
    "# remove \" \" in the column names (e.g.  \"Let's Go対応 \")\n",
    "teachers2.columns = teachers2.columns.str.replace(\" \", \"\")"
   ]
  },
  {
   "cell_type": "code",
   "execution_count": 175,
   "metadata": {},
   "outputs": [],
   "source": [
    "# convert the commma separated cell values into list of items\n",
    "\n",
    "def make_list_of_items_in_a_column(df, col):\n",
    "    \n",
    "    list_of_items = []\n",
    "    for each_cell in df[col]:\n",
    "        items = []\n",
    "        for each_item in each_cell.strip().replace(\"、\",\",\").replace(\"。\",\",\").split(\",\"):\n",
    "            if each_item not in  [\"\", \"-\", \".\"]:\n",
    "                items.append(each_item)\n",
    "        list_of_items.append(items)\n",
    "\n",
    "    # dataframe which has a column with lists in it cannot be loaded into the sql (probably)\n",
    "    # So that column has to be converted into string\n",
    "    df[col] = list_of_items\n",
    "    df[col] = df[col].astype(str)"
   ]
  },
  {
   "cell_type": "code",
   "execution_count": 164,
   "metadata": {},
   "outputs": [],
   "source": [
    "make_list_of_items_in_a_column(teachers2, \"hobby\")\n",
    "make_list_of_items_in_a_column(teachers2, \"movie\")"
   ]
  },
  {
   "cell_type": "code",
   "execution_count": 165,
   "metadata": {},
   "outputs": [],
   "source": [
    "# make a column where regions of  teachers' country is shown\n",
    "\n",
    "def country_to_region(country):\n",
    "    for region, c_list in region_dict.items():\n",
    "        if country in c_list:\n",
    "            return region\n",
    "\n",
    "teachers2[\"region\"] = teachers2.country.apply(country_to_region)"
   ]
  },
  {
   "cell_type": "code",
   "execution_count": 166,
   "metadata": {},
   "outputs": [],
   "source": [
    "# one hot encode \"gender\" as male :1, femal: 0\n",
    "teachers2.gender = teachers2.gender.replace({\"男性\":1, \"女性\":0})\n",
    "teachers2 = teachers2.rename(columns={\"gender\":\"male\"})"
   ]
  },
  {
   "cell_type": "code",
   "execution_count": 167,
   "metadata": {},
   "outputs": [
    {
     "name": "stdout",
     "output_type": "stream",
     "text": [
      "<class 'pandas.core.frame.DataFrame'>\n",
      "RangeIndex: 4695 entries, 0 to 4694\n",
      "Data columns (total 33 columns):\n",
      "id               4695 non-null int64\n",
      "name             4695 non-null object\n",
      "country          4695 non-null object\n",
      "age              4597 non-null float64\n",
      "male             4695 non-null int64\n",
      "years            4695 non-null object\n",
      "school           4695 non-null object\n",
      "hobby            4695 non-null object\n",
      "movie            4695 non-null object\n",
      "fav              4695 non-null int64\n",
      "evalu            4652 non-null float64\n",
      "n_evalu          4652 non-null object\n",
      "rate5            4652 non-null float64\n",
      "rate4            4652 non-null float64\n",
      "rate3            4652 non-null float64\n",
      "rate2            4652 non-null float64\n",
      "rate1            4652 non-null float64\n",
      "message          4695 non-null object\n",
      "staff_comment    4695 non-null object\n",
      "日本人講師            4695 non-null int64\n",
      "ビジネス英会話          4695 non-null int64\n",
      "講師歴3年以上          4695 non-null int64\n",
      "キッズ向け            4695 non-null int64\n",
      "TOEFL対応          4695 non-null int64\n",
      "初心者向け            4695 non-null int64\n",
      "上級者向け            4695 non-null int64\n",
      "スピーキングテスト対応      4695 non-null int64\n",
      "Let'sGo対応        4695 non-null int64\n",
      "英検®対応            4695 non-null int64\n",
      "IELTS            4695 non-null int64\n",
      "ネイティブ講師          4695 non-null int64\n",
      "新人講師             4695 non-null int64\n",
      "region           4695 non-null object\n",
      "dtypes: float64(7), int64(16), object(10)\n",
      "memory usage: 1.2+ MB\n"
     ]
    }
   ],
   "source": [
    "teachers2.info()"
   ]
  },
  {
   "cell_type": "code",
   "execution_count": 168,
   "metadata": {},
   "outputs": [],
   "source": [
    "# one hot encode \"years\" column and remove \"講師歴3年以上\", \"新人講師\" columns\n",
    "one_hot_years = pd.get_dummies(teachers2.years)[[\"1年未満\",\"1年\",\"2年\",\"3年以上\"]].astype(int)\n",
    "\n",
    "teachers2 = teachers2.join(one_hot_years)\n",
    "teachers2 = teachers2.drop(axis=1, labels=[\"years\",\"講師歴3年以上\",\"新人講師\"])"
   ]
  },
  {
   "cell_type": "code",
   "execution_count": 169,
   "metadata": {},
   "outputs": [],
   "source": [
    "# convert staff_comment of Japanese teachers (プラスネイティブプランのユーザー様に限り.../ この講師は無料体験レッスン専用講師です...) into NaN\n",
    "\n",
    "has_staff_comment = teachers2.staff_comment.str.contains(\"プラスネイティブプランのユーザー様に限り\") | \\\n",
    "                        teachers2.staff_comment.str.contains(\"この講師は無料体験レッスン専用講師です\")\n",
    "\n",
    "teachers2.loc[has_staff_comment, \"staff_comment\"] = np.nan"
   ]
  },
  {
   "cell_type": "code",
   "execution_count": 170,
   "metadata": {
    "scrolled": true
   },
   "outputs": [
    {
     "data": {
      "text/html": [
       "<div>\n",
       "<style scoped>\n",
       "    .dataframe tbody tr th:only-of-type {\n",
       "        vertical-align: middle;\n",
       "    }\n",
       "\n",
       "    .dataframe tbody tr th {\n",
       "        vertical-align: top;\n",
       "    }\n",
       "\n",
       "    .dataframe thead th {\n",
       "        text-align: right;\n",
       "    }\n",
       "</style>\n",
       "<table border=\"1\" class=\"dataframe\">\n",
       "  <thead>\n",
       "    <tr style=\"text-align: right;\">\n",
       "      <th></th>\n",
       "      <th>id</th>\n",
       "      <th>name</th>\n",
       "      <th>country</th>\n",
       "      <th>age</th>\n",
       "      <th>male</th>\n",
       "      <th>school</th>\n",
       "      <th>hobby</th>\n",
       "      <th>movie</th>\n",
       "      <th>fav</th>\n",
       "      <th>evalu</th>\n",
       "      <th>n_evalu</th>\n",
       "      <th>rate5</th>\n",
       "      <th>rate4</th>\n",
       "      <th>rate3</th>\n",
       "      <th>rate2</th>\n",
       "      <th>rate1</th>\n",
       "      <th>message</th>\n",
       "      <th>staff_comment</th>\n",
       "      <th>日本人講師</th>\n",
       "      <th>ビジネス英会話</th>\n",
       "      <th>キッズ向け</th>\n",
       "      <th>TOEFL対応</th>\n",
       "      <th>初心者向け</th>\n",
       "      <th>上級者向け</th>\n",
       "      <th>スピーキングテスト対応</th>\n",
       "      <th>Let'sGo対応</th>\n",
       "      <th>英検®対応</th>\n",
       "      <th>IELTS</th>\n",
       "      <th>ネイティブ講師</th>\n",
       "      <th>region</th>\n",
       "      <th>1年未満</th>\n",
       "      <th>1年</th>\n",
       "      <th>2年</th>\n",
       "      <th>3年以上</th>\n",
       "    </tr>\n",
       "  </thead>\n",
       "  <tbody>\n",
       "    <tr>\n",
       "      <th>0</th>\n",
       "      <td>398</td>\n",
       "      <td>Jules（ジュルズ）</td>\n",
       "      <td>イギリス</td>\n",
       "      <td>39.0</td>\n",
       "      <td>0</td>\n",
       "      <td>South East Essex College</td>\n",
       "      <td>[['Reading', ' writing', ' art and jewelry design'], ['reading books', ' traveling', ' eating', ...</td>\n",
       "      <td>[['Bourne Trilogy'], ['Xmen Trilogy', ' Matrix Trilogy', ' A Beautiful Mind', ' Patch Adams', ' ...</td>\n",
       "      <td>4027</td>\n",
       "      <td>4.99</td>\n",
       "      <td>1745</td>\n",
       "      <td>1716.0</td>\n",
       "      <td>25.0</td>\n",
       "      <td>4.0</td>\n",
       "      <td>0.0</td>\n",
       "      <td>0.0</td>\n",
       "      <td>My name is Jules and I am an English teacher from London, England. I have more than 5 years expe...</td>\n",
       "      <td>いつも生徒の声に耳を傾けてくれるジュルズ先生。イギリス・ロンドン出身のネイティブ講師で現在はタイで生活しています。これまで1年間ほど、タイで英語を教えた経験があり、タイ語で日常会話ができます。...</td>\n",
       "      <td>0</td>\n",
       "      <td>0</td>\n",
       "      <td>0</td>\n",
       "      <td>0</td>\n",
       "      <td>0</td>\n",
       "      <td>1</td>\n",
       "      <td>0</td>\n",
       "      <td>0</td>\n",
       "      <td>0</td>\n",
       "      <td>0</td>\n",
       "      <td>1</td>\n",
       "      <td>europe</td>\n",
       "      <td>0</td>\n",
       "      <td>0</td>\n",
       "      <td>0</td>\n",
       "      <td>1</td>\n",
       "    </tr>\n",
       "    <tr>\n",
       "      <th>1</th>\n",
       "      <td>1117</td>\n",
       "      <td>Sheri（シェリ）</td>\n",
       "      <td>フィリピン</td>\n",
       "      <td>33.0</td>\n",
       "      <td>0</td>\n",
       "      <td>University of Santo Tomas</td>\n",
       "      <td>[['Reading', ' writing', ' art and jewelry design'], ['reading books', ' traveling', ' eating', ...</td>\n",
       "      <td>[['Bourne Trilogy'], ['Xmen Trilogy', ' Matrix Trilogy', ' A Beautiful Mind', ' Patch Adams', ' ...</td>\n",
       "      <td>1347</td>\n",
       "      <td>5.00</td>\n",
       "      <td>376</td>\n",
       "      <td>373.0</td>\n",
       "      <td>3.0</td>\n",
       "      <td>0.0</td>\n",
       "      <td>0.0</td>\n",
       "      <td>0.0</td>\n",
       "      <td>I am Sheri and teaching is my passion. One of the most rewarding things in life for me is when a...</td>\n",
       "      <td>\"Teaching is my passion（教える事は情熱的なことだ）\"と言い切るシェリ先生です。今までプライベート家庭教師として２年ほど韓国人相手に英語を教えた経験があります。子供相手に...</td>\n",
       "      <td>0</td>\n",
       "      <td>1</td>\n",
       "      <td>1</td>\n",
       "      <td>0</td>\n",
       "      <td>1</td>\n",
       "      <td>1</td>\n",
       "      <td>0</td>\n",
       "      <td>0</td>\n",
       "      <td>0</td>\n",
       "      <td>0</td>\n",
       "      <td>0</td>\n",
       "      <td>asia</td>\n",
       "      <td>0</td>\n",
       "      <td>0</td>\n",
       "      <td>0</td>\n",
       "      <td>1</td>\n",
       "    </tr>\n",
       "    <tr>\n",
       "      <th>2</th>\n",
       "      <td>1446</td>\n",
       "      <td>Ella（エラ）</td>\n",
       "      <td>フィリピン</td>\n",
       "      <td>36.0</td>\n",
       "      <td>0</td>\n",
       "      <td>CAISA (Career Institute Of Southeast Asia)</td>\n",
       "      <td>[['Reading', ' writing', ' art and jewelry design'], ['reading books', ' traveling', ' eating', ...</td>\n",
       "      <td>[['Bourne Trilogy'], ['Xmen Trilogy', ' Matrix Trilogy', ' A Beautiful Mind', ' Patch Adams', ' ...</td>\n",
       "      <td>2802</td>\n",
       "      <td>5.00</td>\n",
       "      <td>4395</td>\n",
       "      <td>4145.0</td>\n",
       "      <td>188.0</td>\n",
       "      <td>49.0</td>\n",
       "      <td>8.0</td>\n",
       "      <td>5.0</td>\n",
       "      <td>hello everyone! My name is Shiella Mae. I prefer to be called Ella. I am from Davao City Philipp...</td>\n",
       "      <td>衛生コンサルタントの仕事を7年務めた経験を持つエラ先生。そのときの経験を活かして、情熱をもって英語を教えているそうです！時間があるときには、アメリカのドラマを観ていて、お気に入りの作品は、『ワ...</td>\n",
       "      <td>0</td>\n",
       "      <td>1</td>\n",
       "      <td>0</td>\n",
       "      <td>0</td>\n",
       "      <td>0</td>\n",
       "      <td>0</td>\n",
       "      <td>0</td>\n",
       "      <td>0</td>\n",
       "      <td>0</td>\n",
       "      <td>0</td>\n",
       "      <td>0</td>\n",
       "      <td>asia</td>\n",
       "      <td>0</td>\n",
       "      <td>0</td>\n",
       "      <td>0</td>\n",
       "      <td>1</td>\n",
       "    </tr>\n",
       "    <tr>\n",
       "      <th>3</th>\n",
       "      <td>1677</td>\n",
       "      <td>Dani（ダニ）</td>\n",
       "      <td>セルビア</td>\n",
       "      <td>32.0</td>\n",
       "      <td>0</td>\n",
       "      <td>University of Belgrade, Serbia</td>\n",
       "      <td>[['Reading', ' writing', ' art and jewelry design'], ['reading books', ' traveling', ' eating', ...</td>\n",
       "      <td>[['Bourne Trilogy'], ['Xmen Trilogy', ' Matrix Trilogy', ' A Beautiful Mind', ' Patch Adams', ' ...</td>\n",
       "      <td>7404</td>\n",
       "      <td>5.00</td>\n",
       "      <td>2158</td>\n",
       "      <td>2068.0</td>\n",
       "      <td>76.0</td>\n",
       "      <td>9.0</td>\n",
       "      <td>2.0</td>\n",
       "      <td>3.0</td>\n",
       "      <td>Proverb says that a good teacher is like a candle - it consumes itself to light the way for othe...</td>\n",
       "      <td>5年間英語を教えてきたベテランのダニ先生。子供から大人、英語初級者から上級者まで幅広く指導してきました。現在の仕事では英語を多く用いるので、ビジネス英語を学びたい方にもおすすめです。また大の日...</td>\n",
       "      <td>0</td>\n",
       "      <td>0</td>\n",
       "      <td>0</td>\n",
       "      <td>0</td>\n",
       "      <td>1</td>\n",
       "      <td>0</td>\n",
       "      <td>0</td>\n",
       "      <td>0</td>\n",
       "      <td>0</td>\n",
       "      <td>0</td>\n",
       "      <td>0</td>\n",
       "      <td>europe</td>\n",
       "      <td>0</td>\n",
       "      <td>0</td>\n",
       "      <td>0</td>\n",
       "      <td>1</td>\n",
       "    </tr>\n",
       "    <tr>\n",
       "      <th>4</th>\n",
       "      <td>1897</td>\n",
       "      <td>Dina（ディナ）</td>\n",
       "      <td>セルビア</td>\n",
       "      <td>26.0</td>\n",
       "      <td>0</td>\n",
       "      <td>The College of Tourism</td>\n",
       "      <td>[['Reading', ' writing', ' art and jewelry design'], ['reading books', ' traveling', ' eating', ...</td>\n",
       "      <td>[['Bourne Trilogy'], ['Xmen Trilogy', ' Matrix Trilogy', ' A Beautiful Mind', ' Patch Adams', ' ...</td>\n",
       "      <td>3544</td>\n",
       "      <td>4.99</td>\n",
       "      <td>3283</td>\n",
       "      <td>3172.0</td>\n",
       "      <td>88.0</td>\n",
       "      <td>20.0</td>\n",
       "      <td>0.0</td>\n",
       "      <td>3.0</td>\n",
       "      <td>I am glad to write something about myself :) My name is Dina, I'm 22 years old and I live and st...</td>\n",
       "      <td>ディナ先生の将来の夢は、ツアーアテンダントになることです。世界中を旅行して、たくさんの地域で人々を案内する仕事に就きたいと言います。これまでにセルビアの有名なホテルでの受付として働いたり、旅行...</td>\n",
       "      <td>0</td>\n",
       "      <td>0</td>\n",
       "      <td>0</td>\n",
       "      <td>0</td>\n",
       "      <td>1</td>\n",
       "      <td>0</td>\n",
       "      <td>0</td>\n",
       "      <td>0</td>\n",
       "      <td>0</td>\n",
       "      <td>0</td>\n",
       "      <td>0</td>\n",
       "      <td>europe</td>\n",
       "      <td>0</td>\n",
       "      <td>0</td>\n",
       "      <td>0</td>\n",
       "      <td>1</td>\n",
       "    </tr>\n",
       "  </tbody>\n",
       "</table>\n",
       "</div>"
      ],
      "text/plain": [
       "     id         name country   age  male  \\\n",
       "0   398  Jules（ジュルズ）    イギリス  39.0     0   \n",
       "1  1117   Sheri（シェリ）   フィリピン  33.0     0   \n",
       "2  1446     Ella（エラ）   フィリピン  36.0     0   \n",
       "3  1677     Dani（ダニ）    セルビア  32.0     0   \n",
       "4  1897    Dina（ディナ）    セルビア  26.0     0   \n",
       "\n",
       "                                       school  \\\n",
       "0                    South East Essex College   \n",
       "1                   University of Santo Tomas   \n",
       "2  CAISA (Career Institute Of Southeast Asia)   \n",
       "3              University of Belgrade, Serbia   \n",
       "4                      The College of Tourism   \n",
       "\n",
       "                                                                                                 hobby  \\\n",
       "0  [['Reading', ' writing', ' art and jewelry design'], ['reading books', ' traveling', ' eating', ...   \n",
       "1  [['Reading', ' writing', ' art and jewelry design'], ['reading books', ' traveling', ' eating', ...   \n",
       "2  [['Reading', ' writing', ' art and jewelry design'], ['reading books', ' traveling', ' eating', ...   \n",
       "3  [['Reading', ' writing', ' art and jewelry design'], ['reading books', ' traveling', ' eating', ...   \n",
       "4  [['Reading', ' writing', ' art and jewelry design'], ['reading books', ' traveling', ' eating', ...   \n",
       "\n",
       "                                                                                                 movie  \\\n",
       "0  [['Bourne Trilogy'], ['Xmen Trilogy', ' Matrix Trilogy', ' A Beautiful Mind', ' Patch Adams', ' ...   \n",
       "1  [['Bourne Trilogy'], ['Xmen Trilogy', ' Matrix Trilogy', ' A Beautiful Mind', ' Patch Adams', ' ...   \n",
       "2  [['Bourne Trilogy'], ['Xmen Trilogy', ' Matrix Trilogy', ' A Beautiful Mind', ' Patch Adams', ' ...   \n",
       "3  [['Bourne Trilogy'], ['Xmen Trilogy', ' Matrix Trilogy', ' A Beautiful Mind', ' Patch Adams', ' ...   \n",
       "4  [['Bourne Trilogy'], ['Xmen Trilogy', ' Matrix Trilogy', ' A Beautiful Mind', ' Patch Adams', ' ...   \n",
       "\n",
       "    fav  evalu n_evalu   rate5  rate4  rate3  rate2  rate1  \\\n",
       "0  4027   4.99    1745  1716.0   25.0    4.0    0.0    0.0   \n",
       "1  1347   5.00     376   373.0    3.0    0.0    0.0    0.0   \n",
       "2  2802   5.00    4395  4145.0  188.0   49.0    8.0    5.0   \n",
       "3  7404   5.00    2158  2068.0   76.0    9.0    2.0    3.0   \n",
       "4  3544   4.99    3283  3172.0   88.0   20.0    0.0    3.0   \n",
       "\n",
       "                                                                                               message  \\\n",
       "0  My name is Jules and I am an English teacher from London, England. I have more than 5 years expe...   \n",
       "1  I am Sheri and teaching is my passion. One of the most rewarding things in life for me is when a...   \n",
       "2  hello everyone! My name is Shiella Mae. I prefer to be called Ella. I am from Davao City Philipp...   \n",
       "3  Proverb says that a good teacher is like a candle - it consumes itself to light the way for othe...   \n",
       "4  I am glad to write something about myself :) My name is Dina, I'm 22 years old and I live and st...   \n",
       "\n",
       "                                                                                         staff_comment  \\\n",
       "0  いつも生徒の声に耳を傾けてくれるジュルズ先生。イギリス・ロンドン出身のネイティブ講師で現在はタイで生活しています。これまで1年間ほど、タイで英語を教えた経験があり、タイ語で日常会話ができます。...   \n",
       "1  \"Teaching is my passion（教える事は情熱的なことだ）\"と言い切るシェリ先生です。今までプライベート家庭教師として２年ほど韓国人相手に英語を教えた経験があります。子供相手に...   \n",
       "2  衛生コンサルタントの仕事を7年務めた経験を持つエラ先生。そのときの経験を活かして、情熱をもって英語を教えているそうです！時間があるときには、アメリカのドラマを観ていて、お気に入りの作品は、『ワ...   \n",
       "3  5年間英語を教えてきたベテランのダニ先生。子供から大人、英語初級者から上級者まで幅広く指導してきました。現在の仕事では英語を多く用いるので、ビジネス英語を学びたい方にもおすすめです。また大の日...   \n",
       "4  ディナ先生の将来の夢は、ツアーアテンダントになることです。世界中を旅行して、たくさんの地域で人々を案内する仕事に就きたいと言います。これまでにセルビアの有名なホテルでの受付として働いたり、旅行...   \n",
       "\n",
       "   日本人講師  ビジネス英会話  キッズ向け  TOEFL対応  初心者向け  上級者向け  スピーキングテスト対応  Let'sGo対応  \\\n",
       "0      0        0      0        0      0      1            0          0   \n",
       "1      0        1      1        0      1      1            0          0   \n",
       "2      0        1      0        0      0      0            0          0   \n",
       "3      0        0      0        0      1      0            0          0   \n",
       "4      0        0      0        0      1      0            0          0   \n",
       "\n",
       "   英検®対応  IELTS  ネイティブ講師  region  1年未満  1年  2年  3年以上  \n",
       "0      0      0        1  europe     0   0   0     1  \n",
       "1      0      0        0    asia     0   0   0     1  \n",
       "2      0      0        0    asia     0   0   0     1  \n",
       "3      0      0        0  europe     0   0   0     1  \n",
       "4      0      0        0  europe     0   0   0     1  "
      ]
     },
     "execution_count": 170,
     "metadata": {},
     "output_type": "execute_result"
    }
   ],
   "source": [
    "teachers2.head()"
   ]
  },
  {
   "cell_type": "code",
   "execution_count": 171,
   "metadata": {},
   "outputs": [
    {
     "name": "stdout",
     "output_type": "stream",
     "text": [
      "<class 'pandas.core.frame.DataFrame'>\n",
      "RangeIndex: 4695 entries, 0 to 4694\n",
      "Data columns (total 34 columns):\n",
      "id               4695 non-null int64\n",
      "name             4695 non-null object\n",
      "country          4695 non-null object\n",
      "age              4597 non-null float64\n",
      "male             4695 non-null int64\n",
      "school           4695 non-null object\n",
      "hobby            4695 non-null object\n",
      "movie            4695 non-null object\n",
      "fav              4695 non-null int64\n",
      "evalu            4652 non-null float64\n",
      "n_evalu          4652 non-null object\n",
      "rate5            4652 non-null float64\n",
      "rate4            4652 non-null float64\n",
      "rate3            4652 non-null float64\n",
      "rate2            4652 non-null float64\n",
      "rate1            4652 non-null float64\n",
      "message          4695 non-null object\n",
      "staff_comment    4609 non-null object\n",
      "日本人講師            4695 non-null int64\n",
      "ビジネス英会話          4695 non-null int64\n",
      "キッズ向け            4695 non-null int64\n",
      "TOEFL対応          4695 non-null int64\n",
      "初心者向け            4695 non-null int64\n",
      "上級者向け            4695 non-null int64\n",
      "スピーキングテスト対応      4695 non-null int64\n",
      "Let'sGo対応        4695 non-null int64\n",
      "英検®対応            4695 non-null int64\n",
      "IELTS            4695 non-null int64\n",
      "ネイティブ講師          4695 non-null int64\n",
      "region           4695 non-null object\n",
      "1年未満             4695 non-null int64\n",
      "1年               4695 non-null int64\n",
      "2年               4695 non-null int64\n",
      "3年以上             4695 non-null int64\n",
      "dtypes: float64(7), int64(18), object(9)\n",
      "memory usage: 1.2+ MB\n"
     ]
    }
   ],
   "source": [
    "teachers2.info()"
   ]
  },
  {
   "cell_type": "markdown",
   "metadata": {},
   "source": [
    "# Store clean teachers' DataFrame into a database file"
   ]
  },
  {
   "cell_type": "code",
   "execution_count": 172,
   "metadata": {
    "scrolled": true
   },
   "outputs": [],
   "source": [
    "# store teahers' dataframe into database file \"teachers_data.db\"\n",
    "\n",
    "conn = sqlite3.connect(\"teachers_data.db\")\n",
    "teachers2.to_sql(\"profiles\", conn, if_exists=\"replace\", index=False)"
   ]
  },
  {
   "cell_type": "markdown",
   "metadata": {},
   "source": [
    "# Load in teachers' DataFrame to \"df\""
   ]
  },
  {
   "cell_type": "code",
   "execution_count": 173,
   "metadata": {},
   "outputs": [],
   "source": [
    "# load teachers' data from database file to dataframe\n",
    "\n",
    "conn = sqlite3.connect(\"teachers_data.db\")\n",
    "df = pd.read_sql(\"SELECT * FROM profiles\",conn)"
   ]
  },
  {
   "cell_type": "code",
   "execution_count": 174,
   "metadata": {
    "scrolled": true
   },
   "outputs": [
    {
     "data": {
      "text/html": [
       "<div>\n",
       "<style scoped>\n",
       "    .dataframe tbody tr th:only-of-type {\n",
       "        vertical-align: middle;\n",
       "    }\n",
       "\n",
       "    .dataframe tbody tr th {\n",
       "        vertical-align: top;\n",
       "    }\n",
       "\n",
       "    .dataframe thead th {\n",
       "        text-align: right;\n",
       "    }\n",
       "</style>\n",
       "<table border=\"1\" class=\"dataframe\">\n",
       "  <thead>\n",
       "    <tr style=\"text-align: right;\">\n",
       "      <th></th>\n",
       "      <th>id</th>\n",
       "      <th>name</th>\n",
       "      <th>country</th>\n",
       "      <th>age</th>\n",
       "      <th>male</th>\n",
       "      <th>school</th>\n",
       "      <th>hobby</th>\n",
       "      <th>movie</th>\n",
       "      <th>fav</th>\n",
       "      <th>evalu</th>\n",
       "      <th>n_evalu</th>\n",
       "      <th>rate5</th>\n",
       "      <th>rate4</th>\n",
       "      <th>rate3</th>\n",
       "      <th>rate2</th>\n",
       "      <th>rate1</th>\n",
       "      <th>message</th>\n",
       "      <th>staff_comment</th>\n",
       "      <th>日本人講師</th>\n",
       "      <th>ビジネス英会話</th>\n",
       "      <th>キッズ向け</th>\n",
       "      <th>TOEFL対応</th>\n",
       "      <th>初心者向け</th>\n",
       "      <th>上級者向け</th>\n",
       "      <th>スピーキングテスト対応</th>\n",
       "      <th>Let'sGo対応</th>\n",
       "      <th>英検®対応</th>\n",
       "      <th>IELTS</th>\n",
       "      <th>ネイティブ講師</th>\n",
       "      <th>region</th>\n",
       "      <th>1年未満</th>\n",
       "      <th>1年</th>\n",
       "      <th>2年</th>\n",
       "      <th>3年以上</th>\n",
       "    </tr>\n",
       "  </thead>\n",
       "  <tbody>\n",
       "    <tr>\n",
       "      <th>0</th>\n",
       "      <td>398</td>\n",
       "      <td>Jules（ジュルズ）</td>\n",
       "      <td>イギリス</td>\n",
       "      <td>39.0</td>\n",
       "      <td>0</td>\n",
       "      <td>South East Essex College</td>\n",
       "      <td>[['Reading', ' writing', ' art and jewelry design'], ['reading books', ' traveling', ' eating', ...</td>\n",
       "      <td>[['Bourne Trilogy'], ['Xmen Trilogy', ' Matrix Trilogy', ' A Beautiful Mind', ' Patch Adams', ' ...</td>\n",
       "      <td>4027</td>\n",
       "      <td>4.99</td>\n",
       "      <td>1745</td>\n",
       "      <td>1716.0</td>\n",
       "      <td>25.0</td>\n",
       "      <td>4.0</td>\n",
       "      <td>0.0</td>\n",
       "      <td>0.0</td>\n",
       "      <td>My name is Jules and I am an English teacher from London, England. I have more than 5 years expe...</td>\n",
       "      <td>いつも生徒の声に耳を傾けてくれるジュルズ先生。イギリス・ロンドン出身のネイティブ講師で現在はタイで生活しています。これまで1年間ほど、タイで英語を教えた経験があり、タイ語で日常会話ができます。...</td>\n",
       "      <td>0</td>\n",
       "      <td>0</td>\n",
       "      <td>0</td>\n",
       "      <td>0</td>\n",
       "      <td>0</td>\n",
       "      <td>1</td>\n",
       "      <td>0</td>\n",
       "      <td>0</td>\n",
       "      <td>0</td>\n",
       "      <td>0</td>\n",
       "      <td>1</td>\n",
       "      <td>europe</td>\n",
       "      <td>0</td>\n",
       "      <td>0</td>\n",
       "      <td>0</td>\n",
       "      <td>1</td>\n",
       "    </tr>\n",
       "    <tr>\n",
       "      <th>1</th>\n",
       "      <td>1117</td>\n",
       "      <td>Sheri（シェリ）</td>\n",
       "      <td>フィリピン</td>\n",
       "      <td>33.0</td>\n",
       "      <td>0</td>\n",
       "      <td>University of Santo Tomas</td>\n",
       "      <td>[['Reading', ' writing', ' art and jewelry design'], ['reading books', ' traveling', ' eating', ...</td>\n",
       "      <td>[['Bourne Trilogy'], ['Xmen Trilogy', ' Matrix Trilogy', ' A Beautiful Mind', ' Patch Adams', ' ...</td>\n",
       "      <td>1347</td>\n",
       "      <td>5.00</td>\n",
       "      <td>376</td>\n",
       "      <td>373.0</td>\n",
       "      <td>3.0</td>\n",
       "      <td>0.0</td>\n",
       "      <td>0.0</td>\n",
       "      <td>0.0</td>\n",
       "      <td>I am Sheri and teaching is my passion. One of the most rewarding things in life for me is when a...</td>\n",
       "      <td>\"Teaching is my passion（教える事は情熱的なことだ）\"と言い切るシェリ先生です。今までプライベート家庭教師として２年ほど韓国人相手に英語を教えた経験があります。子供相手に...</td>\n",
       "      <td>0</td>\n",
       "      <td>1</td>\n",
       "      <td>1</td>\n",
       "      <td>0</td>\n",
       "      <td>1</td>\n",
       "      <td>1</td>\n",
       "      <td>0</td>\n",
       "      <td>0</td>\n",
       "      <td>0</td>\n",
       "      <td>0</td>\n",
       "      <td>0</td>\n",
       "      <td>asia</td>\n",
       "      <td>0</td>\n",
       "      <td>0</td>\n",
       "      <td>0</td>\n",
       "      <td>1</td>\n",
       "    </tr>\n",
       "    <tr>\n",
       "      <th>2</th>\n",
       "      <td>1446</td>\n",
       "      <td>Ella（エラ）</td>\n",
       "      <td>フィリピン</td>\n",
       "      <td>36.0</td>\n",
       "      <td>0</td>\n",
       "      <td>CAISA (Career Institute Of Southeast Asia)</td>\n",
       "      <td>[['Reading', ' writing', ' art and jewelry design'], ['reading books', ' traveling', ' eating', ...</td>\n",
       "      <td>[['Bourne Trilogy'], ['Xmen Trilogy', ' Matrix Trilogy', ' A Beautiful Mind', ' Patch Adams', ' ...</td>\n",
       "      <td>2802</td>\n",
       "      <td>5.00</td>\n",
       "      <td>4395</td>\n",
       "      <td>4145.0</td>\n",
       "      <td>188.0</td>\n",
       "      <td>49.0</td>\n",
       "      <td>8.0</td>\n",
       "      <td>5.0</td>\n",
       "      <td>hello everyone! My name is Shiella Mae. I prefer to be called Ella. I am from Davao City Philipp...</td>\n",
       "      <td>衛生コンサルタントの仕事を7年務めた経験を持つエラ先生。そのときの経験を活かして、情熱をもって英語を教えているそうです！時間があるときには、アメリカのドラマを観ていて、お気に入りの作品は、『ワ...</td>\n",
       "      <td>0</td>\n",
       "      <td>1</td>\n",
       "      <td>0</td>\n",
       "      <td>0</td>\n",
       "      <td>0</td>\n",
       "      <td>0</td>\n",
       "      <td>0</td>\n",
       "      <td>0</td>\n",
       "      <td>0</td>\n",
       "      <td>0</td>\n",
       "      <td>0</td>\n",
       "      <td>asia</td>\n",
       "      <td>0</td>\n",
       "      <td>0</td>\n",
       "      <td>0</td>\n",
       "      <td>1</td>\n",
       "    </tr>\n",
       "    <tr>\n",
       "      <th>3</th>\n",
       "      <td>1677</td>\n",
       "      <td>Dani（ダニ）</td>\n",
       "      <td>セルビア</td>\n",
       "      <td>32.0</td>\n",
       "      <td>0</td>\n",
       "      <td>University of Belgrade, Serbia</td>\n",
       "      <td>[['Reading', ' writing', ' art and jewelry design'], ['reading books', ' traveling', ' eating', ...</td>\n",
       "      <td>[['Bourne Trilogy'], ['Xmen Trilogy', ' Matrix Trilogy', ' A Beautiful Mind', ' Patch Adams', ' ...</td>\n",
       "      <td>7404</td>\n",
       "      <td>5.00</td>\n",
       "      <td>2158</td>\n",
       "      <td>2068.0</td>\n",
       "      <td>76.0</td>\n",
       "      <td>9.0</td>\n",
       "      <td>2.0</td>\n",
       "      <td>3.0</td>\n",
       "      <td>Proverb says that a good teacher is like a candle - it consumes itself to light the way for othe...</td>\n",
       "      <td>5年間英語を教えてきたベテランのダニ先生。子供から大人、英語初級者から上級者まで幅広く指導してきました。現在の仕事では英語を多く用いるので、ビジネス英語を学びたい方にもおすすめです。また大の日...</td>\n",
       "      <td>0</td>\n",
       "      <td>0</td>\n",
       "      <td>0</td>\n",
       "      <td>0</td>\n",
       "      <td>1</td>\n",
       "      <td>0</td>\n",
       "      <td>0</td>\n",
       "      <td>0</td>\n",
       "      <td>0</td>\n",
       "      <td>0</td>\n",
       "      <td>0</td>\n",
       "      <td>europe</td>\n",
       "      <td>0</td>\n",
       "      <td>0</td>\n",
       "      <td>0</td>\n",
       "      <td>1</td>\n",
       "    </tr>\n",
       "    <tr>\n",
       "      <th>4</th>\n",
       "      <td>1897</td>\n",
       "      <td>Dina（ディナ）</td>\n",
       "      <td>セルビア</td>\n",
       "      <td>26.0</td>\n",
       "      <td>0</td>\n",
       "      <td>The College of Tourism</td>\n",
       "      <td>[['Reading', ' writing', ' art and jewelry design'], ['reading books', ' traveling', ' eating', ...</td>\n",
       "      <td>[['Bourne Trilogy'], ['Xmen Trilogy', ' Matrix Trilogy', ' A Beautiful Mind', ' Patch Adams', ' ...</td>\n",
       "      <td>3544</td>\n",
       "      <td>4.99</td>\n",
       "      <td>3283</td>\n",
       "      <td>3172.0</td>\n",
       "      <td>88.0</td>\n",
       "      <td>20.0</td>\n",
       "      <td>0.0</td>\n",
       "      <td>3.0</td>\n",
       "      <td>I am glad to write something about myself :) My name is Dina, I'm 22 years old and I live and st...</td>\n",
       "      <td>ディナ先生の将来の夢は、ツアーアテンダントになることです。世界中を旅行して、たくさんの地域で人々を案内する仕事に就きたいと言います。これまでにセルビアの有名なホテルでの受付として働いたり、旅行...</td>\n",
       "      <td>0</td>\n",
       "      <td>0</td>\n",
       "      <td>0</td>\n",
       "      <td>0</td>\n",
       "      <td>1</td>\n",
       "      <td>0</td>\n",
       "      <td>0</td>\n",
       "      <td>0</td>\n",
       "      <td>0</td>\n",
       "      <td>0</td>\n",
       "      <td>0</td>\n",
       "      <td>europe</td>\n",
       "      <td>0</td>\n",
       "      <td>0</td>\n",
       "      <td>0</td>\n",
       "      <td>1</td>\n",
       "    </tr>\n",
       "  </tbody>\n",
       "</table>\n",
       "</div>"
      ],
      "text/plain": [
       "     id         name country   age  male  \\\n",
       "0   398  Jules（ジュルズ）    イギリス  39.0     0   \n",
       "1  1117   Sheri（シェリ）   フィリピン  33.0     0   \n",
       "2  1446     Ella（エラ）   フィリピン  36.0     0   \n",
       "3  1677     Dani（ダニ）    セルビア  32.0     0   \n",
       "4  1897    Dina（ディナ）    セルビア  26.0     0   \n",
       "\n",
       "                                       school  \\\n",
       "0                    South East Essex College   \n",
       "1                   University of Santo Tomas   \n",
       "2  CAISA (Career Institute Of Southeast Asia)   \n",
       "3              University of Belgrade, Serbia   \n",
       "4                      The College of Tourism   \n",
       "\n",
       "                                                                                                 hobby  \\\n",
       "0  [['Reading', ' writing', ' art and jewelry design'], ['reading books', ' traveling', ' eating', ...   \n",
       "1  [['Reading', ' writing', ' art and jewelry design'], ['reading books', ' traveling', ' eating', ...   \n",
       "2  [['Reading', ' writing', ' art and jewelry design'], ['reading books', ' traveling', ' eating', ...   \n",
       "3  [['Reading', ' writing', ' art and jewelry design'], ['reading books', ' traveling', ' eating', ...   \n",
       "4  [['Reading', ' writing', ' art and jewelry design'], ['reading books', ' traveling', ' eating', ...   \n",
       "\n",
       "                                                                                                 movie  \\\n",
       "0  [['Bourne Trilogy'], ['Xmen Trilogy', ' Matrix Trilogy', ' A Beautiful Mind', ' Patch Adams', ' ...   \n",
       "1  [['Bourne Trilogy'], ['Xmen Trilogy', ' Matrix Trilogy', ' A Beautiful Mind', ' Patch Adams', ' ...   \n",
       "2  [['Bourne Trilogy'], ['Xmen Trilogy', ' Matrix Trilogy', ' A Beautiful Mind', ' Patch Adams', ' ...   \n",
       "3  [['Bourne Trilogy'], ['Xmen Trilogy', ' Matrix Trilogy', ' A Beautiful Mind', ' Patch Adams', ' ...   \n",
       "4  [['Bourne Trilogy'], ['Xmen Trilogy', ' Matrix Trilogy', ' A Beautiful Mind', ' Patch Adams', ' ...   \n",
       "\n",
       "    fav  evalu n_evalu   rate5  rate4  rate3  rate2  rate1  \\\n",
       "0  4027   4.99    1745  1716.0   25.0    4.0    0.0    0.0   \n",
       "1  1347   5.00     376   373.0    3.0    0.0    0.0    0.0   \n",
       "2  2802   5.00    4395  4145.0  188.0   49.0    8.0    5.0   \n",
       "3  7404   5.00    2158  2068.0   76.0    9.0    2.0    3.0   \n",
       "4  3544   4.99    3283  3172.0   88.0   20.0    0.0    3.0   \n",
       "\n",
       "                                                                                               message  \\\n",
       "0  My name is Jules and I am an English teacher from London, England. I have more than 5 years expe...   \n",
       "1  I am Sheri and teaching is my passion. One of the most rewarding things in life for me is when a...   \n",
       "2  hello everyone! My name is Shiella Mae. I prefer to be called Ella. I am from Davao City Philipp...   \n",
       "3  Proverb says that a good teacher is like a candle - it consumes itself to light the way for othe...   \n",
       "4  I am glad to write something about myself :) My name is Dina, I'm 22 years old and I live and st...   \n",
       "\n",
       "                                                                                         staff_comment  \\\n",
       "0  いつも生徒の声に耳を傾けてくれるジュルズ先生。イギリス・ロンドン出身のネイティブ講師で現在はタイで生活しています。これまで1年間ほど、タイで英語を教えた経験があり、タイ語で日常会話ができます。...   \n",
       "1  \"Teaching is my passion（教える事は情熱的なことだ）\"と言い切るシェリ先生です。今までプライベート家庭教師として２年ほど韓国人相手に英語を教えた経験があります。子供相手に...   \n",
       "2  衛生コンサルタントの仕事を7年務めた経験を持つエラ先生。そのときの経験を活かして、情熱をもって英語を教えているそうです！時間があるときには、アメリカのドラマを観ていて、お気に入りの作品は、『ワ...   \n",
       "3  5年間英語を教えてきたベテランのダニ先生。子供から大人、英語初級者から上級者まで幅広く指導してきました。現在の仕事では英語を多く用いるので、ビジネス英語を学びたい方にもおすすめです。また大の日...   \n",
       "4  ディナ先生の将来の夢は、ツアーアテンダントになることです。世界中を旅行して、たくさんの地域で人々を案内する仕事に就きたいと言います。これまでにセルビアの有名なホテルでの受付として働いたり、旅行...   \n",
       "\n",
       "   日本人講師  ビジネス英会話  キッズ向け  TOEFL対応  初心者向け  上級者向け  スピーキングテスト対応  Let'sGo対応  \\\n",
       "0      0        0      0        0      0      1            0          0   \n",
       "1      0        1      1        0      1      1            0          0   \n",
       "2      0        1      0        0      0      0            0          0   \n",
       "3      0        0      0        0      1      0            0          0   \n",
       "4      0        0      0        0      1      0            0          0   \n",
       "\n",
       "   英検®対応  IELTS  ネイティブ講師  region  1年未満  1年  2年  3年以上  \n",
       "0      0      0        1  europe     0   0   0     1  \n",
       "1      0      0        0    asia     0   0   0     1  \n",
       "2      0      0        0    asia     0   0   0     1  \n",
       "3      0      0        0  europe     0   0   0     1  \n",
       "4      0      0        0  europe     0   0   0     1  "
      ]
     },
     "execution_count": 174,
     "metadata": {},
     "output_type": "execute_result"
    }
   ],
   "source": [
    "df.head(5)"
   ]
  },
  {
   "cell_type": "code",
   "execution_count": null,
   "metadata": {},
   "outputs": [],
   "source": []
  }
 ],
 "metadata": {
  "kernelspec": {
   "display_name": "Python [conda env:anaconda3]",
   "language": "python",
   "name": "conda-env-anaconda3-py"
  },
  "language_info": {
   "codemirror_mode": {
    "name": "ipython",
    "version": 3
   },
   "file_extension": ".py",
   "mimetype": "text/x-python",
   "name": "python",
   "nbconvert_exporter": "python",
   "pygments_lexer": "ipython3",
   "version": "3.6.7"
  }
 },
 "nbformat": 4,
 "nbformat_minor": 2
}
